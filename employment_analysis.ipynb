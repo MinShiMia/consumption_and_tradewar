{
 "cells": [
  {
   "cell_type": "code",
   "execution_count": 60,
   "metadata": {},
   "outputs": [],
   "source": [
    "import pandas as pd             # data package\n",
    "import matplotlib.pyplot as plt # graphics \n",
    "import datetime as dt\n",
    "import numpy as np\n",
    "\n",
    "import requests, io             # internet and input tools  \n",
    "import zipfile as zf            # zip file tools \n",
    "import os  \n",
    "\n",
    "from numpy.polynomial.polynomial import polyfit\n",
    "\n",
    "import pyarrow as pa\n",
    "import pyarrow.parquet as pq\n",
    "\n",
    "import statsmodels.api as sm\n",
    "import statsmodels\n",
    "#import statsmodels.formula.api as smf\n",
    "from linearmodels.iv import IV2SLS\n",
    "from linearmodels.panel import PanelOLS\n",
    "\n",
    "\n",
    "\n",
    "import warnings\n",
    "warnings.filterwarnings(\"ignore\")"
   ]
  },
  {
   "cell_type": "markdown",
   "metadata": {},
   "source": [
    "### Preface\n",
    "\n",
    "This notebook just explores the employment analysis part of the paper [\"The Consumption Response to Trade Shocks: Evidence from the US-China Trade War.\"](http://www.waugheconomics.com/uploads/2/2/5/6/22563786/waugh_consumption.pdf) . This is in Section 5. It mimics many parts of the auto analysis (visualization, tabular representations, and regression analysis). Below I also report the unweighted an weighted regression results.\n",
    "\n",
    "### Steup for analysis\n",
    "\n",
    "Just some basic things, bring in the data, make the transformations that we want, etc..."
   ]
  },
  {
   "cell_type": "code",
   "execution_count": 61,
   "metadata": {},
   "outputs": [],
   "source": [
    "fig_path = \"C:\\\\github\\\\expenditure_tradeshocks\\\\figures\""
   ]
  },
  {
   "cell_type": "markdown",
   "metadata": {},
   "source": [
    "This is the cell below to change if you want to toggle between all employment and only goods producing employment."
   ]
  },
  {
   "cell_type": "code",
   "execution_count": 62,
   "metadata": {},
   "outputs": [],
   "source": [
    "try: driver_flag\n",
    "    \n",
    "except NameError: driver_flag = False"
   ]
  },
  {
   "cell_type": "code",
   "execution_count": 63,
   "metadata": {},
   "outputs": [],
   "source": [
    "file_path = os.getcwd()\n",
    "\n",
    "#trade_county = pq.read_table(file_path + \"\\\\data\\\\trade_employment_goods.parquet\").to_pandas()\n",
    "\n",
    "trade_county = pq.read_table(file_path + \"\\\\data\\\\trade_employment_blssingle19.parquet\").to_pandas()"
   ]
  },
  {
   "cell_type": "code",
   "execution_count": 64,
   "metadata": {},
   "outputs": [],
   "source": [
    "trade_county[\"time\"] = pd.to_datetime(trade_county.time)\n",
    "\n",
    "trade_county.set_index([\"area_fips\", \"time\"],inplace = True)"
   ]
  },
  {
   "cell_type": "code",
   "execution_count": 65,
   "metadata": {},
   "outputs": [],
   "source": [
    "trade_county[\"log_tariff\"] = np.log(1+.01*trade_county[\"tariff\"])\n",
    "\n",
    "trade_county[\"log_exp_total\"] = np.log(trade_county[\"total_exp_pc\"]).replace(-np.inf, np.nan)\n",
    "\n",
    "trade_county[\"log_exp_china\"] = np.log(trade_county[\"china_exp_pc\"]).replace(-np.inf, np.nan)\n",
    "\n",
    "emp_measure = \"emp_rtl\"\n",
    "# Here you specify the type of employment you want. emp_all is total employment. emp_gds = goods employment. \n",
    "\n",
    "trade_county[\"log_employment\"] = np.log(trade_county[emp_measure]).replace(-np.inf, np.nan)\n",
    "# Now given how the file is setup, we can select which type of employment.\n",
    "# all private, goods, or manufacturing.\n",
    "\n",
    "#trade_county[\"log_employment_nt\"] = np.log(trade_county[\"emp_all\"] - \n",
    "#                                          trade_county[\"emp_gds\"]).replace(-np.inf, np.nan)\n",
    "\n",
    "trade_county[\"const\"] = 1"
   ]
  },
  {
   "cell_type": "code",
   "execution_count": 66,
   "metadata": {},
   "outputs": [],
   "source": [
    "trade_county.reset_index(inplace = True)\n",
    "\n",
    "trade_county.rename({\"area_fips\": \"GEOFIPS\"},axis = 1, inplace = True)\n",
    "\n",
    "trade_county[\"state_fips\"] = trade_county[\"GEOFIPS\"].astype(str).str[0:2]\n",
    "\n",
    "trade_county[\"GEOFIPS\"] = trade_county[\"GEOFIPS\"].astype(int)"
   ]
  },
  {
   "cell_type": "code",
   "execution_count": 67,
   "metadata": {},
   "outputs": [],
   "source": [
    "trade_county.set_index([\"GEOFIPS\", \"time\"], inplace = True)"
   ]
  },
  {
   "cell_type": "code",
   "execution_count": 68,
   "metadata": {},
   "outputs": [
    {
     "data": {
      "text/html": [
       "<div>\n",
       "<style scoped>\n",
       "    .dataframe tbody tr th:only-of-type {\n",
       "        vertical-align: middle;\n",
       "    }\n",
       "\n",
       "    .dataframe tbody tr th {\n",
       "        vertical-align: top;\n",
       "    }\n",
       "\n",
       "    .dataframe thead th {\n",
       "        text-align: right;\n",
       "    }\n",
       "</style>\n",
       "<table border=\"1\" class=\"dataframe\">\n",
       "  <thead>\n",
       "    <tr style=\"text-align: right;\">\n",
       "      <th></th>\n",
       "      <th></th>\n",
       "      <th>total_exp_pc</th>\n",
       "      <th>china_exp_pc</th>\n",
       "      <th>tariff</th>\n",
       "      <th>emplvl_2017</th>\n",
       "      <th>fips</th>\n",
       "      <th>total_employment</th>\n",
       "      <th>emp_rtl</th>\n",
       "      <th>emp_all</th>\n",
       "      <th>emp_gds</th>\n",
       "      <th>emp_ngds</th>\n",
       "      <th>rural_share</th>\n",
       "      <th>2010_population</th>\n",
       "      <th>2017_income</th>\n",
       "      <th>2017_population</th>\n",
       "      <th>log_tariff</th>\n",
       "      <th>log_exp_total</th>\n",
       "      <th>log_exp_china</th>\n",
       "      <th>log_employment</th>\n",
       "      <th>const</th>\n",
       "      <th>state_fips</th>\n",
       "    </tr>\n",
       "    <tr>\n",
       "      <th>GEOFIPS</th>\n",
       "      <th>time</th>\n",
       "      <th></th>\n",
       "      <th></th>\n",
       "      <th></th>\n",
       "      <th></th>\n",
       "      <th></th>\n",
       "      <th></th>\n",
       "      <th></th>\n",
       "      <th></th>\n",
       "      <th></th>\n",
       "      <th></th>\n",
       "      <th></th>\n",
       "      <th></th>\n",
       "      <th></th>\n",
       "      <th></th>\n",
       "      <th></th>\n",
       "      <th></th>\n",
       "      <th></th>\n",
       "      <th></th>\n",
       "      <th></th>\n",
       "      <th></th>\n",
       "    </tr>\n",
       "  </thead>\n",
       "  <tbody>\n",
       "    <tr>\n",
       "      <td rowspan=\"5\" valign=\"top\">10001</td>\n",
       "      <td>2016-01-01</td>\n",
       "      <td>453.257185</td>\n",
       "      <td>47.280196</td>\n",
       "      <td>1.069532</td>\n",
       "      <td>2843.0</td>\n",
       "      <td>10001</td>\n",
       "      <td>29514.0</td>\n",
       "      <td>9269.0</td>\n",
       "      <td>0.0</td>\n",
       "      <td>0.0</td>\n",
       "      <td>38494.0</td>\n",
       "      <td>0.269694</td>\n",
       "      <td>162310.0</td>\n",
       "      <td>57647.0</td>\n",
       "      <td>173145.0</td>\n",
       "      <td>0.010639</td>\n",
       "      <td>6.116460</td>\n",
       "      <td>3.856092</td>\n",
       "      <td>9.134431</td>\n",
       "      <td>1</td>\n",
       "      <td>10</td>\n",
       "    </tr>\n",
       "    <tr>\n",
       "      <td>2016-02-01</td>\n",
       "      <td>471.930726</td>\n",
       "      <td>47.211522</td>\n",
       "      <td>1.069499</td>\n",
       "      <td>2843.0</td>\n",
       "      <td>10001</td>\n",
       "      <td>29514.0</td>\n",
       "      <td>9236.0</td>\n",
       "      <td>0.0</td>\n",
       "      <td>0.0</td>\n",
       "      <td>38646.0</td>\n",
       "      <td>0.269694</td>\n",
       "      <td>162310.0</td>\n",
       "      <td>57647.0</td>\n",
       "      <td>173145.0</td>\n",
       "      <td>0.010638</td>\n",
       "      <td>6.156832</td>\n",
       "      <td>3.854638</td>\n",
       "      <td>9.130864</td>\n",
       "      <td>1</td>\n",
       "      <td>10</td>\n",
       "    </tr>\n",
       "    <tr>\n",
       "      <td>2016-03-01</td>\n",
       "      <td>485.376760</td>\n",
       "      <td>35.078484</td>\n",
       "      <td>1.069500</td>\n",
       "      <td>2843.0</td>\n",
       "      <td>10001</td>\n",
       "      <td>29514.0</td>\n",
       "      <td>9342.0</td>\n",
       "      <td>0.0</td>\n",
       "      <td>0.0</td>\n",
       "      <td>38917.0</td>\n",
       "      <td>0.269694</td>\n",
       "      <td>162310.0</td>\n",
       "      <td>57647.0</td>\n",
       "      <td>173145.0</td>\n",
       "      <td>0.010638</td>\n",
       "      <td>6.184925</td>\n",
       "      <td>3.557588</td>\n",
       "      <td>9.142276</td>\n",
       "      <td>1</td>\n",
       "      <td>10</td>\n",
       "    </tr>\n",
       "    <tr>\n",
       "      <td>2016-04-01</td>\n",
       "      <td>460.259354</td>\n",
       "      <td>27.991526</td>\n",
       "      <td>1.069500</td>\n",
       "      <td>2843.0</td>\n",
       "      <td>10001</td>\n",
       "      <td>29514.0</td>\n",
       "      <td>9376.0</td>\n",
       "      <td>0.0</td>\n",
       "      <td>0.0</td>\n",
       "      <td>39719.0</td>\n",
       "      <td>0.269694</td>\n",
       "      <td>162310.0</td>\n",
       "      <td>57647.0</td>\n",
       "      <td>173145.0</td>\n",
       "      <td>0.010638</td>\n",
       "      <td>6.131790</td>\n",
       "      <td>3.331902</td>\n",
       "      <td>9.145909</td>\n",
       "      <td>1</td>\n",
       "      <td>10</td>\n",
       "    </tr>\n",
       "    <tr>\n",
       "      <td>2016-05-01</td>\n",
       "      <td>473.572638</td>\n",
       "      <td>28.235163</td>\n",
       "      <td>1.069499</td>\n",
       "      <td>2843.0</td>\n",
       "      <td>10001</td>\n",
       "      <td>29514.0</td>\n",
       "      <td>9265.0</td>\n",
       "      <td>0.0</td>\n",
       "      <td>0.0</td>\n",
       "      <td>40164.0</td>\n",
       "      <td>0.269694</td>\n",
       "      <td>162310.0</td>\n",
       "      <td>57647.0</td>\n",
       "      <td>173145.0</td>\n",
       "      <td>0.010638</td>\n",
       "      <td>6.160305</td>\n",
       "      <td>3.340568</td>\n",
       "      <td>9.133999</td>\n",
       "      <td>1</td>\n",
       "      <td>10</td>\n",
       "    </tr>\n",
       "  </tbody>\n",
       "</table>\n",
       "</div>"
      ],
      "text/plain": [
       "                    total_exp_pc  china_exp_pc    tariff  emplvl_2017   fips  \\\n",
       "GEOFIPS time                                                                   \n",
       "10001   2016-01-01    453.257185     47.280196  1.069532       2843.0  10001   \n",
       "        2016-02-01    471.930726     47.211522  1.069499       2843.0  10001   \n",
       "        2016-03-01    485.376760     35.078484  1.069500       2843.0  10001   \n",
       "        2016-04-01    460.259354     27.991526  1.069500       2843.0  10001   \n",
       "        2016-05-01    473.572638     28.235163  1.069499       2843.0  10001   \n",
       "\n",
       "                    total_employment  emp_rtl  emp_all  emp_gds  emp_ngds  \\\n",
       "GEOFIPS time                                                                \n",
       "10001   2016-01-01           29514.0   9269.0      0.0      0.0   38494.0   \n",
       "        2016-02-01           29514.0   9236.0      0.0      0.0   38646.0   \n",
       "        2016-03-01           29514.0   9342.0      0.0      0.0   38917.0   \n",
       "        2016-04-01           29514.0   9376.0      0.0      0.0   39719.0   \n",
       "        2016-05-01           29514.0   9265.0      0.0      0.0   40164.0   \n",
       "\n",
       "                    rural_share  2010_population  2017_income  \\\n",
       "GEOFIPS time                                                    \n",
       "10001   2016-01-01     0.269694         162310.0      57647.0   \n",
       "        2016-02-01     0.269694         162310.0      57647.0   \n",
       "        2016-03-01     0.269694         162310.0      57647.0   \n",
       "        2016-04-01     0.269694         162310.0      57647.0   \n",
       "        2016-05-01     0.269694         162310.0      57647.0   \n",
       "\n",
       "                    2017_population  log_tariff  log_exp_total  log_exp_china  \\\n",
       "GEOFIPS time                                                                    \n",
       "10001   2016-01-01         173145.0    0.010639       6.116460       3.856092   \n",
       "        2016-02-01         173145.0    0.010638       6.156832       3.854638   \n",
       "        2016-03-01         173145.0    0.010638       6.184925       3.557588   \n",
       "        2016-04-01         173145.0    0.010638       6.131790       3.331902   \n",
       "        2016-05-01         173145.0    0.010638       6.160305       3.340568   \n",
       "\n",
       "                    log_employment  const state_fips  \n",
       "GEOFIPS time                                          \n",
       "10001   2016-01-01        9.134431      1         10  \n",
       "        2016-02-01        9.130864      1         10  \n",
       "        2016-03-01        9.142276      1         10  \n",
       "        2016-04-01        9.145909      1         10  \n",
       "        2016-05-01        9.133999      1         10  "
      ]
     },
     "execution_count": 68,
     "metadata": {},
     "output_type": "execute_result"
    }
   ],
   "source": [
    "trade_county.head()"
   ]
  },
  {
   "cell_type": "markdown",
   "metadata": {},
   "source": [
    "### Simple Cuts of Employment Data by Tariff Exposure\n",
    "\n",
    "Here is the strategy. First, compute the quantiles of tariff exposure for each county. Then compute year over year sales growth for each county. Note that since this is in growth rates, this takes out any county level \"fixed effect\" and removes any seasonal component. \n",
    "\n",
    "Then we will simply plot year over year employment growth, for the (mean or median) county in a particular part of the distribution of tariff exposure.\n",
    "\n",
    "This stuff is not reported in the paper, but is here to mimic the results for the autos.\n",
    "\n",
    "Note the stuff below will also replicate the summary statistics in the paper."
   ]
  },
  {
   "cell_type": "code",
   "execution_count": 69,
   "metadata": {},
   "outputs": [],
   "source": [
    "# First take growth rates\n",
    "\n",
    "# note , I'm a bit confused about why the sorting,\n",
    "# here is that because of some missing values, the resulting dateframe from the \n",
    "# first operation may be out of place, so we need to resort things to make sure that\n",
    "# the time difference is correct.\n",
    "trade_county.sort_values([\"GEOFIPS\", \"time\"], inplace = True)\n",
    "\n",
    "trade_county[\"tariff_change\"] = trade_county.groupby([\"GEOFIPS\"]).tariff.diff(12)\n",
    "\n",
    "trade_county.sort_values([\"GEOFIPS\", \"time\"], inplace = True)\n",
    "\n",
    "trade_county[\"log_tariff_change\"] = trade_county.groupby([\"GEOFIPS\"]).log_tariff.diff(12)\n",
    "\n",
    "trade_county.sort_values([\"GEOFIPS\", \"time\"], inplace = True)\n",
    "\n",
    "trade_county[\"employment_growth\"] = trade_county.groupby([\"GEOFIPS\"]).log_employment.diff(12)\n",
    "\n",
    "trade_county.sort_values([\"GEOFIPS\", \"time\"], inplace = True)\n",
    "\n",
    "#trade_county[\"nt_employment_growth\"] = trade_county.groupby([\"GEOFIPS\"]).log_employment_nt.diff(12)\n",
    "\n",
    "#trade_county.sort_values([\"GEOFIPS\", \"time\"], inplace = True)"
   ]
  },
  {
   "cell_type": "code",
   "execution_count": 70,
   "metadata": {},
   "outputs": [],
   "source": [
    "# Then what we will do is look at the change in the taiff distribution...\n",
    "\n",
    "exposure = pd.qcut(trade_county.xs('2018-12-1', level=1).tariff_change, 4 ,labels = False)\n",
    "\n",
    "#median_exposure = pd.qcut(trade_county.xs('2018-12-1', level=1).alt_tariff, 5 ,labels = False)"
   ]
  },
  {
   "cell_type": "code",
   "execution_count": 71,
   "metadata": {},
   "outputs": [
    {
     "data": {
      "text/plain": [
       "1.5077290482672434"
      ]
     },
     "execution_count": 71,
     "metadata": {},
     "output_type": "execute_result"
    }
   ],
   "source": [
    "most_exposed = exposure[exposure == 3].index.tolist()\n",
    "\n",
    "mid_group = exposure.isin([1,2])\n",
    "\n",
    "med_exposed = exposure[mid_group].index.tolist()\n",
    "\n",
    "least_exposed = exposure[exposure == 0].index.tolist()\n",
    "\n",
    "trade_county.xs('2018-12-1', level=1).tariff_change.mean()\n"
   ]
  },
  {
   "cell_type": "code",
   "execution_count": 72,
   "metadata": {},
   "outputs": [
    {
     "name": "stdout",
     "output_type": "stream",
     "text": [
      "Tariff Change-Most: 3.79\n",
      "Tariff Change-Midl: 1.05\n",
      "Tariff Change-Lest: 0.15\n",
      "Tariff Change-Mean: 1.51\n"
     ]
    }
   ],
   "source": [
    "if driver_flag != True:\n",
    "    print(\"Tariff Change-Most:\", round(trade_county.loc[most_exposed].xs('2018-12-1', level=1).tariff_change.mean(),2))\n",
    "    print(\"Tariff Change-Midl:\", round(trade_county.loc[med_exposed].xs('2018-12-1', level=1).tariff_change.mean(),2))\n",
    "    print(\"Tariff Change-Lest:\",round(trade_county.loc[least_exposed].xs('2018-12-1', level=1).tariff_change.mean(),2))\n",
    "    print(\"Tariff Change-Mean:\", round(trade_county.xs('2018-12-1', level=1).tariff_change.mean(),2))"
   ]
  },
  {
   "cell_type": "code",
   "execution_count": 73,
   "metadata": {},
   "outputs": [
    {
     "name": "stdout",
     "output_type": "stream",
     "text": [
      "Chinese Exports 2017, (Most, Middle, Least, Mean)\n",
      "4034.0\n",
      "1289.0\n",
      "347.0\n",
      "1879.0\n"
     ]
    }
   ],
   "source": [
    "if driver_flag != True:\n",
    "    \n",
    "    print(\"Chinese Exports 2017, (Most, Middle, Least, Mean)\")\n",
    "\n",
    "    measure = \"china_exp_pc\"\n",
    "\n",
    "    print(round(trade_county.loc[most_exposed].groupby(\"time\").agg({measure :\"mean\"}).loc[\"2017\"].sum()[0],0))\n",
    "\n",
    "    print(round(trade_county.loc[med_exposed].groupby(\"time\").agg({measure :\"mean\"}).loc[\"2017\"].sum()[0],0))\n",
    "\n",
    "    print(round(trade_county.loc[least_exposed].groupby(\"time\").agg({measure :\"mean\"}).loc[\"2017\"].sum()[0],0))\n",
    "\n",
    "    print(round(trade_county.groupby(\"time\").agg({measure:\"mean\"}).loc[\"2017\"].sum()[0],0))"
   ]
  },
  {
   "cell_type": "code",
   "execution_count": 74,
   "metadata": {
    "scrolled": true
   },
   "outputs": [
    {
     "name": "stdout",
     "output_type": "stream",
     "text": [
      "Annual Employment, (Most, Middle, Least, Mean)\n",
      "1492.0\n",
      "7262.0\n",
      "3557.0\n",
      "4896.0\n"
     ]
    }
   ],
   "source": [
    "if driver_flag != True:\n",
    "    \n",
    "    print(\"Annual Employment, (Most, Middle, Least, Mean)\")\n",
    "\n",
    "    print(round(trade_county.loc[most_exposed].groupby(\"time\").agg({emp_measure:\"mean\"}).loc[\"2017\"].mean()[0],0))\n",
    "\n",
    "    print(round(trade_county.loc[med_exposed].groupby(\"time\").agg({emp_measure:\"mean\"}).loc[\"2017\"].mean()[0],0))\n",
    "\n",
    "    print(round(trade_county.loc[least_exposed].groupby(\"time\").agg({emp_measure:\"mean\"}).loc[\"2017\"].mean()[0],0))\n",
    "\n",
    "    print(round(trade_county.groupby(\"time\").agg({emp_measure:\"mean\"}).loc[\"2017\"].mean()[0],0))"
   ]
  },
  {
   "cell_type": "markdown",
   "metadata": {},
   "source": [
    "Now we will plot a comparision between those who are most exposed and those whoe are the least exposed (in terms of changes). This is basically the difference in difference by visualization."
   ]
  },
  {
   "cell_type": "code",
   "execution_count": 75,
   "metadata": {},
   "outputs": [],
   "source": [
    "empl_most = trade_county.loc[most_exposed].groupby(\"time\").agg({\"employment_growth\":\"mean\"})\n",
    "\n",
    "empl_least = trade_county.loc[least_exposed].groupby(\"time\").agg({\"employment_growth\":\"mean\"})"
   ]
  },
  {
   "cell_type": "code",
   "execution_count": 76,
   "metadata": {},
   "outputs": [
    {
     "data": {
      "image/png": "[encoded data removed]",
      "text/plain": [
       "<Figure size 864x576 with 1 Axes>"
      ]
     },
     "metadata": {
      "needs_background": "light"
     },
     "output_type": "display_data"
    }
   ],
   "source": [
    "if driver_flag != True:\n",
    "    \n",
    "    fig, ax = plt.subplots(figsize = (12,8))\n",
    "\n",
    "    mike_blue = tuple(np.array([20, 64, 134]) / 255)\n",
    "\n",
    "    ax.plot((empl_most - empl_least), alpha = 0.95, color = mike_blue, linewidth = 4, \n",
    "        label = 'Difference between top and bottom\\nquartile of county level Chinese tariff exposure')\n",
    "\n",
    "#ax.plot(, alpha = 0.95, color = mike_blue , linewidth = 4, \n",
    "#        label = 'Bottom Quantile of Chinese Tariff Exposure Counties')\n",
    "\n",
    "    ax.set_ylim(-0.02,0.02)\n",
    "\n",
    "    ax.set_xlim(dt.datetime(2018,1,1),dt.datetime(2019,3,1))\n",
    "\n",
    "    ax.spines[\"right\"].set_visible(False)\n",
    "\n",
    "    ax.spines[\"top\"].set_visible(False)\n",
    "\n",
    "    ax.yaxis.grid(alpha= 0.5, linestyle= \"--\")\n",
    "\n",
    "    ax.set_ylabel(\"Employment, Year over Year Log Difference,\\nComparison Between High- and Low-Tariff Counties\", fontsize = 14)\n",
    "\n",
    "    ax.hlines((empl_most - empl_least).loc[:\"2018-07-01\"].mean().iloc[0],\n",
    "          dt.datetime(2018,1,1),dt.datetime(2018,7,6),\n",
    "           linewidth = 3, color = 'darkred', alpha =0.75, linestyle = \"--\")\n",
    "\n",
    "    ax.hlines((empl_most - empl_least).loc[\"2018-08-01\":].mean().iloc[0],\n",
    "          dt.datetime(2018,7,6),dt.datetime(2019,3,1),\n",
    "           linewidth = 3, color = 'darkred', alpha =0.75, linestyle = \"--\", label = \"Avg. Pre- and Post-Tariff Increase\")\n",
    "\n",
    "    ax.axvline(dt.datetime(2018,4,4), linewidth = 2, ls = \"--\", color = 'k', alpha =0.15)\n",
    "\n",
    "    ax.axvline(dt.datetime(2018,7,6), linewidth = 2, ls = \"--\", color = 'k', alpha =0.15)\n",
    "\n",
    "    ax.axvline(dt.datetime(2018,8,23), linewidth = 2, ls = \"--\", color = 'k', alpha =0.25)\n",
    "\n",
    "    ax.axvline(dt.datetime(2018,9,24), linewidth = 2, ls = \"--\", color = 'k', alpha =0.15)\n",
    "\n",
    "    ax.axvline(dt.datetime(2018,12,1), linewidth = 2, ls = \"--\", color = 'k', alpha =0.15)\n",
    "\n",
    "    ax.legend(loc = 0, frameon  = False, fontsize = 14)\n",
    "\n",
    "    ax.set_title(\"County-Level, Employment (Goods) Growth by Tariff Exposure\", fontsize = 16, loc= \"left\" )\n",
    "\n",
    "##############################################################################################\n",
    "\n",
    "    ax.annotate(\n",
    "    \"4/2018: US announces intention\\nto impose tariffs on China\", \n",
    "    xy=(dt.datetime(2018,4,3), 0.005), # This is where we point at...\n",
    "    xycoords=\"data\", # Not exactly sure about this\n",
    "    xytext=(dt.datetime(2018,9,3), 0.01), # This is about where the text is\n",
    "    horizontalalignment=\"left\", # How the text is alined\n",
    "    arrowprops={\n",
    "        \"arrowstyle\": \"-|>\", # This is stuff about the arrow\n",
    "        \"connectionstyle\": \"angle3,angleA=5,angleB=50\",\n",
    "        \"color\": \"black\",\n",
    "        \"alpha\": 0.55\n",
    "    },\n",
    "    fontsize=11,\n",
    "    )\n",
    "\n",
    "##############################################################################################\n",
    "\n",
    "    ax.annotate(\n",
    "    \"7/2018: China imposes first phase of\\nretaliatory tariffs\", \n",
    "    xy=(dt.datetime(2018,7,6), -0.01), # This is where we point at...\n",
    "    xycoords=\"data\", # Not exactly sure about this\n",
    "    xytext=(dt.datetime(2018,10,3), 0.0), # This is about where the text is\n",
    "    horizontalalignment=\"left\", # How the text is alined\n",
    "    arrowprops={\n",
    "        \"arrowstyle\": \"-|>\", # This is stuff about the arrow\n",
    "        \"connectionstyle\": \"angle3,angleA=5,angleB=50\",\n",
    "        \"color\": \"black\",\n",
    "        \"alpha\": 0.55\n",
    "    },\n",
    "    fontsize=11,\n",
    "    )\n",
    "\n",
    "###################################################################################\n",
    "\n",
    "    ax.annotate(\n",
    "    \"8-9/2018: China imposes second and \\nthird phase of retaliatory tariffs\", \n",
    "    xy=(dt.datetime(2018,8,23), -0.02), color='white',# This is where we point at...\n",
    "    xycoords=\"data\", # Not exactly sure about this\n",
    "    xytext=(dt.datetime(2018,11,3), -0.005), # This is about where the text is\n",
    "    horizontalalignment=\"left\", # How the text is alined\n",
    "    arrowprops={\n",
    "        \"arrowstyle\": \"-|>\", # This is stuff about the arrow\n",
    "        \"connectionstyle\": \"angle3,angleA=345,angleB=80\",\n",
    "        \"color\": \"black\",\n",
    "        \"alpha\": 0.55\n",
    "    },\n",
    "    fontsize=11,\n",
    "    )\n",
    "\n",
    "###################################################################################\n",
    "\n",
    "    ax.annotate(\n",
    "    \"8-9/2018: China imposes second and \\nthird phase of retaliatory tariffs\", \n",
    "    xy=(dt.datetime(2018,9,24), -0.02), # This is where we point at...\n",
    "    xycoords=\"data\", # Not exactly sure about this\n",
    "    xytext=(dt.datetime(2018,11,3), -0.005), # This is about where the text is\n",
    "    horizontalalignment=\"left\", # How the text is alined\n",
    "    arrowprops={\n",
    "        \"arrowstyle\": \"-|>\", # This is stuff about the arrow\n",
    "        \"connectionstyle\": \"angle3,angleA=345,angleB=286\",\n",
    "        \"color\": \"black\",\n",
    "        \"alpha\": 0.55\n",
    "    },\n",
    "    fontsize=11,\n",
    "    )\n",
    "\n",
    "##############################################################################################\n",
    "\n",
    "#plt.savefig(fig_path + \"\\\\simple_employment_county_all.pdf\", bbox_inches = \"tight\", dip = 3600)\n",
    "\n",
    "#plt.show()"
   ]
  },
  {
   "cell_type": "markdown",
   "metadata": {},
   "source": [
    "Then this will do the tabular representation using stuff before and after the first phase of the tradewar."
   ]
  },
  {
   "cell_type": "code",
   "execution_count": 77,
   "metadata": {},
   "outputs": [
    {
     "name": "stdout",
     "output_type": "stream",
     "text": [
      "-0.0073 0.001 4707\n",
      "-0.0047 0.001 4491\n"
     ]
    }
   ],
   "source": [
    "idx = pd.IndexSlice\n",
    "\n",
    "me_mean = trade_county.loc[most_exposed].loc[idx[:,\"2018-01-01\":\"2018-06-01\"],:].employment_growth.mean()\n",
    "\n",
    "me_nobs = trade_county.loc[most_exposed].loc[idx[:,\"2018-01-01\":\"2018-06-01\"],:].employment_growth.notnull().sum()\n",
    "\n",
    "me_se = trade_county.loc[most_exposed].loc[idx[:,\"2018-01-01\":\"2018-06-01\"],:].employment_growth.std()/me_nobs**0.5\n",
    "\n",
    "\n",
    "le_mean = trade_county.loc[least_exposed].loc[idx[:,\"2018-01-01\":\"2018-06-01\"],:].employment_growth.mean()\n",
    "\n",
    "le_nobs = trade_county.loc[least_exposed].loc[idx[:,\"2018-01-01\":\"2018-06-01\"],:].employment_growth.notnull().sum()\n",
    "\n",
    "le_se = trade_county.loc[least_exposed].loc[idx[:,\"2018-01-01\":\"2018-06-01\"],:].employment_growth.std()/me_nobs**0.5\n",
    "\n",
    "if driver_flag != True:\n",
    "    print(round(me_mean,4), round(me_se,3), me_nobs)\n",
    "    print(round(le_mean,4), round(le_se,3), le_nobs)"
   ]
  },
  {
   "cell_type": "code",
   "execution_count": 78,
   "metadata": {},
   "outputs": [
    {
     "name": "stdout",
     "output_type": "stream",
     "text": [
      "-0.0075 0.001 9369\n",
      "-0.0045 0.001 8904\n"
     ]
    }
   ],
   "source": [
    "idx = pd.IndexSlice\n",
    "\n",
    "me_mean = trade_county.loc[most_exposed].loc[idx[:,\"2018-07-01\":],:].employment_growth.mean()\n",
    "\n",
    "me_nobs = trade_county.loc[most_exposed].loc[idx[:,\"2018-07-01\":],:].employment_growth.notnull().sum()\n",
    "\n",
    "me_se = trade_county.loc[most_exposed].loc[idx[:,\"2018-07-01\":],:].employment_growth.std()/me_nobs**0.5\n",
    "\n",
    "\n",
    "le_mean = trade_county.loc[least_exposed].loc[idx[:,\"2018-07-01\":],:].employment_growth.mean()\n",
    "\n",
    "le_nobs = trade_county.loc[least_exposed].loc[idx[:,\"2018-07-01\":],:].employment_growth.notnull().sum()\n",
    "\n",
    "le_se = trade_county.loc[least_exposed].loc[idx[:,\"2018-07-01\":],:].employment_growth.std()/me_nobs**0.5\n",
    "\n",
    "if driver_flag != True:\n",
    "    print(round(me_mean,4), round(me_se,3), me_nobs)\n",
    "    print(round(le_mean,4), round(le_se,3), le_nobs)"
   ]
  },
  {
   "cell_type": "markdown",
   "metadata": {},
   "source": [
    "Not discussed in the paper, but what this looks like is that both looked relativly the same before the start of it interms of employment growth. But after the first phase, the least exposed did really well (this is consistent with a rocking US economy) but those most exposed did relativly poorly. But growth here is still positive. "
   ]
  },
  {
   "cell_type": "markdown",
   "metadata": {},
   "source": [
    "### Regression Analysis\n",
    "\n",
    "This will walk through the results using employment data. The first set are the main (weighted results). The next set are the unweighted results. Numbers may not exactly match up to what is in the paper as some rounding is occuring. "
   ]
  },
  {
   "cell_type": "code",
   "execution_count": 79,
   "metadata": {},
   "outputs": [
    {
     "data": {
      "text/plain": [
       "Index(['total_exp_pc', 'china_exp_pc', 'tariff', 'emplvl_2017', 'fips',\n",
       "       'total_employment', 'emp_rtl', 'emp_all', 'emp_gds', 'emp_ngds',\n",
       "       'rural_share', '2010_population', '2017_income', '2017_population',\n",
       "       'log_tariff', 'log_exp_total', 'log_exp_china', 'log_employment',\n",
       "       'const', 'state_fips', 'tariff_change', 'log_tariff_change',\n",
       "       'employment_growth'],\n",
       "      dtype='object')"
      ]
     },
     "execution_count": 79,
     "metadata": {},
     "output_type": "execute_result"
    }
   ],
   "source": [
    "trade_county.columns"
   ]
  },
  {
   "cell_type": "markdown",
   "metadata": {},
   "source": [
    "### Weighted Results\n",
    "\n",
    "#### Change on Change, no time or fixed effects"
   ]
  },
  {
   "cell_type": "code",
   "execution_count": 80,
   "metadata": {},
   "outputs": [],
   "source": [
    "start = \"2018-01-01\"\n",
    "\n",
    "weighting_var = '2010_population'"
   ]
  },
  {
   "cell_type": "code",
   "execution_count": 81,
   "metadata": {
    "scrolled": false
   },
   "outputs": [
    {
     "name": "stdout",
     "output_type": "stream",
     "text": [
      "\n",
      "**********************************************************************************\n",
      "Raw Regression Employment Growth on Tariffs\n",
      "\n",
      "18\n",
      "3252\n",
      "                          PanelOLS Estimation Summary                           \n",
      "================================================================================\n",
      "Dep. Variable:      employment_growth   R-squared:                        0.0022\n",
      "Estimator:                   PanelOLS   R-squared (Between):             -0.0026\n",
      "No. Observations:               55053   R-squared (Within):               0.0069\n",
      "Date:                Thu, Dec 26 2019   R-squared (Overall):              0.0022\n",
      "Time:                        10:33:08   Log-likelihood                 1.066e+05\n",
      "Cov. Estimator:             Clustered                                           \n",
      "                                        F-statistic:                      1292.3\n",
      "Entities:                        3082   P-value                           0.0000\n",
      "Avg Obs:                       17.863   Distribution:                 F(1,55051)\n",
      "Min Obs:                       3.0000                                           \n",
      "Max Obs:                       18.000   F-statistic (robust):             14.594\n",
      "                                        P-value                           0.0001\n",
      "Time periods:                      18   Distribution:                 F(1,55051)\n",
      "Avg Obs:                       3058.5                                           \n",
      "Min Obs:                       3048.0                                           \n",
      "Max Obs:                       3068.0                                           \n",
      "                                                                                \n",
      "                                 Parameter Estimates                                 \n",
      "=====================================================================================\n",
      "                   Parameter  Std. Err.     T-stat    P-value    Lower CI    Upper CI\n",
      "-------------------------------------------------------------------------------------\n",
      "const                -0.0054     0.0009    -6.0535     0.0000     -0.0072     -0.0037\n",
      "log_tariff_change    -0.2271     0.0594    -3.8202     0.0001     -0.3436     -0.1106\n",
      "=====================================================================================\n",
      "\n",
      "\n"
     ]
    }
   ],
   "source": [
    "print(\"\")\n",
    "print(\"**********************************************************************************\")\n",
    "print(\"Raw Regression Employment Growth on Tariffs\")\n",
    "print(\"\")\n",
    "\n",
    "all_vars = [\"const\", \"log_tariff_change\", 'employment_growth',\"2010_population\",'total_employment']\n",
    "\n",
    "dataset = trade_county[all_vars].loc[idx[:,start:\"2019-06-01\"],:]\n",
    "\n",
    "exog_vars = [\"const\",\"log_tariff_change\"]\n",
    "\n",
    "weights = dataset[weighting_var].to_frame()\n",
    "# I fought with this alot. the weights shape needs to exaclty match up\n",
    "# with the dataframe for which the estimation is done. So what I do is\n",
    "# slice as above, then let PanelOLS drop things when there are missing \n",
    "# observations\n",
    "\n",
    "weights.replace(to_replace = 0, value = 0.001,inplace = True)\n",
    "# Some countys because of there size and how the QCEW deals with stuff, there are is zero.\n",
    "# PanelOLS does not like 0 weight, so this the the work around. It does not matter. \n",
    "\n",
    "mod = PanelOLS(dataset.employment_growth, dataset[exog_vars], weights = weights)\n",
    "\n",
    "fe_res = mod.fit(cov_type='clustered', cluster_entity=True)\n",
    "\n",
    "print(fe_res)"
   ]
  },
  {
   "cell_type": "markdown",
   "metadata": {},
   "source": [
    "#### Change on Change, now with just the time effect."
   ]
  },
  {
   "cell_type": "code",
   "execution_count": 82,
   "metadata": {},
   "outputs": [
    {
     "name": "stdout",
     "output_type": "stream",
     "text": [
      "\n",
      "**********************************************************************************\n",
      "Employment Growth on Tariff Change, Time fixed effcts\n",
      "\n",
      "18\n",
      "3252\n",
      "                          PanelOLS Estimation Summary                           \n",
      "================================================================================\n",
      "Dep. Variable:      employment_growth   R-squared:                        0.0001\n",
      "Estimator:                   PanelOLS   R-squared (Between):          -4.101e-05\n",
      "No. Observations:               55053   R-squared (Within):              -0.0029\n",
      "Date:                Thu, Dec 26 2019   R-squared (Overall):             -0.0015\n",
      "Time:                        10:33:08   Log-likelihood                 1.071e+05\n",
      "Cov. Estimator:             Clustered                                           \n",
      "                                        F-statistic:                      1195.3\n",
      "Entities:                        3082   P-value                           0.0000\n",
      "Avg Obs:                       17.863   Distribution:                 F(1,55034)\n",
      "Min Obs:                       3.0000                                           \n",
      "Max Obs:                       18.000   F-statistic (robust):             1.0543\n",
      "                                        P-value                           0.3045\n",
      "Time periods:                      18   Distribution:                 F(1,55034)\n",
      "Avg Obs:                       3058.5                                           \n",
      "Min Obs:                       3048.0                                           \n",
      "Max Obs:                       3068.0                                           \n",
      "                                                                                \n",
      "                                 Parameter Estimates                                 \n",
      "=====================================================================================\n",
      "                   Parameter  Std. Err.     T-stat    P-value    Lower CI    Upper CI\n",
      "-------------------------------------------------------------------------------------\n",
      "const                -0.0069     0.0009    -7.5710     0.0000     -0.0087     -0.0051\n",
      "log_tariff_change     0.0668     0.0650     1.0268     0.3045     -0.0607      0.1942\n",
      "=====================================================================================\n",
      "\n",
      "F-test for Poolability: 52.435\n",
      "P-value: 0.0000\n",
      "Distribution: F(17,55034)\n",
      "\n",
      "Included effects: Time\n"
     ]
    }
   ],
   "source": [
    "print(\"\")\n",
    "print(\"**********************************************************************************\")\n",
    "print(\"Employment Growth on Tariff Change, Time fixed effcts\")\n",
    "print(\"\")\n",
    "\n",
    "all_vars = [\"const\", \"log_tariff_change\", 'employment_growth',\"2010_population\",'total_employment']\n",
    "\n",
    "dataset = trade_county[all_vars].loc[idx[:,start:\"2019-06-01\"],:]\n",
    "\n",
    "exog_vars = [\"const\",\"log_tariff_change\"]\n",
    "\n",
    "weights = dataset[weighting_var].to_frame()\n",
    "# I fought with this alot. the weights shape needs to exaclty match up\n",
    "# with the dataframe for which the estimation is done. So what I do is\n",
    "# slice as above, then let PanelOLS drop things when there are missing \n",
    "# observations\n",
    "\n",
    "weights.replace(to_replace = 0, value = 0.001,inplace = True)\n",
    "# Some countys because of there size and how the QCEW deals with stuff, there are is zero.\n",
    "# PanelOLS does not like 0 weight, so this the the work around. It does not matter. \n",
    "\n",
    "mod = PanelOLS(dataset.employment_growth, dataset[exog_vars], weights = weights, time_effects = True)\n",
    "\n",
    "fe_res = mod.fit(cov_type='clustered', cluster_entity=True)\n",
    "\n",
    "print(fe_res)"
   ]
  },
  {
   "cell_type": "markdown",
   "metadata": {},
   "source": [
    "#### Change on Change, time effects and county-level fixed effects"
   ]
  },
  {
   "cell_type": "code",
   "execution_count": 83,
   "metadata": {},
   "outputs": [
    {
     "name": "stdout",
     "output_type": "stream",
     "text": [
      "\n",
      "**********************************************************************************\n",
      "Employment Growth on Tariff Change, Time and County-level fixed effcts\n",
      "\n",
      "18\n",
      "3252\n",
      "                          PanelOLS Estimation Summary                           \n",
      "================================================================================\n",
      "Dep. Variable:      employment_growth   R-squared:                        0.0004\n",
      "Estimator:                   PanelOLS   R-squared (Between):             -0.0005\n",
      "No. Observations:               55053   R-squared (Within):              -0.0065\n",
      "Date:                Thu, Dec 26 2019   R-squared (Overall):             -0.0035\n",
      "Time:                        10:33:09   Log-likelihood                 1.263e+05\n",
      "Cov. Estimator:             Clustered                                           \n",
      "                                        F-statistic:                      2093.5\n",
      "Entities:                        3082   P-value                           0.0000\n",
      "Avg Obs:                       17.863   Distribution:                 F(1,51953)\n",
      "Min Obs:                       3.0000                                           \n",
      "Max Obs:                       18.000   F-statistic (robust):             2.8504\n",
      "                                        P-value                           0.0914\n",
      "Time periods:                      18   Distribution:                 F(1,51953)\n",
      "Avg Obs:                       3058.5                                           \n",
      "Min Obs:                       3048.0                                           \n",
      "Max Obs:                       3068.0                                           \n",
      "                                                                                \n",
      "                                 Parameter Estimates                                 \n",
      "=====================================================================================\n",
      "                   Parameter  Std. Err.     T-stat    P-value    Lower CI    Upper CI\n",
      "-------------------------------------------------------------------------------------\n",
      "const                -0.0073     0.0004    -17.641     0.0000     -0.0081     -0.0065\n",
      "log_tariff_change     0.1375     0.0814     1.6883     0.0914     -0.0221      0.2971\n",
      "=====================================================================================\n",
      "\n",
      "F-test for Poolability: 17.514\n",
      "P-value: 0.0000\n",
      "Distribution: F(3098,51953)\n",
      "\n",
      "Included effects: Entity, Time\n"
     ]
    }
   ],
   "source": [
    "print(\"\")\n",
    "print(\"**********************************************************************************\")\n",
    "print(\"Employment Growth on Tariff Change, Time and County-level fixed effcts\")\n",
    "print(\"\")\n",
    "\n",
    "all_vars = [\"const\", \"log_tariff_change\", 'employment_growth',\"2010_population\",'total_employment']\n",
    "\n",
    "dataset = trade_county[all_vars].loc[idx[:,start:\"2019-06-01\"],:]\n",
    "\n",
    "exog_vars = [\"const\",\"log_tariff_change\"]\n",
    "\n",
    "weights = dataset[weighting_var].to_frame()\n",
    "# I fought with this alot. the weights shape needs to exaclty match up\n",
    "# with the dataframe for which the estimation is done. So what I do is\n",
    "# slice as above, then let PanelOLS drop things when there are missing \n",
    "# observations\n",
    "\n",
    "weights.replace(to_replace = 0, value = 0.001,inplace = True)\n",
    "# Some countys because of there size and how the QCEW deals with stuff, there are is zero.\n",
    "# PanelOLS does not like 0 weight, so this the the work around. It does not matter. \n",
    "\n",
    "mod = PanelOLS(dataset.employment_growth, dataset[exog_vars], weights = weights, entity_effects=True, \n",
    "               time_effects = True)\n",
    "\n",
    "fe_res = mod.fit(cov_type='clustered', cluster_entity=True)\n",
    "\n",
    "print(fe_res)"
   ]
  },
  {
   "cell_type": "markdown",
   "metadata": {},
   "source": [
    "Now controll for time-varying shocks that may be correlated with the tariff. So I will interact a county's goods producing share and rural share with time dummies. Which is what I do below."
   ]
  },
  {
   "cell_type": "code",
   "execution_count": 84,
   "metadata": {},
   "outputs": [
    {
     "data": {
      "text/plain": [
       "0.27251695676746807"
      ]
     },
     "execution_count": 84,
     "metadata": {},
     "output_type": "execute_result"
    }
   ],
   "source": [
    "trade_county[\"man_share\"] = trade_county[\"emp_gds\"] / trade_county[\"emp_all\"]\n",
    "\n",
    "trade_county[\"man_share\"] = trade_county[\"man_share\"].replace(np.inf, np.nan)\n",
    "\n",
    "trans = lambda df: df.iloc[0:11].mean()\n",
    "\n",
    "#trade_county.groupby([\"GEOFIPS\"]).log_tariff.transform(trans)\n",
    "\n",
    "trade_county[\"avg_man_share\"] = trade_county.groupby([\"GEOFIPS\"]).man_share.transform(trans)\n",
    "\n",
    "trade_county[\"avg_man_share\"].mean()"
   ]
  },
  {
   "cell_type": "code",
   "execution_count": 85,
   "metadata": {},
   "outputs": [],
   "source": [
    "years = [18,19]\n",
    "\n",
    "quarters = [[1,2],[3,4],[5,6],[7,8],[9,10],[11,12]]\n",
    "\n",
    "#quarters = [[1],[2],[3],[4],[5],[6],[7],[8],[9],[10],[11],[12]]\n",
    "\n",
    "rural_list = []\n",
    "\n",
    "man_list = []\n",
    "\n",
    "tariff_list = []\n",
    "\n",
    "count = 0\n",
    "\n",
    "event_study = pd.DataFrame([])\n",
    "\n",
    "for xxx in years:\n",
    "    \n",
    "    for yyy in quarters:\n",
    "        \n",
    "        if (xxx == 19) & (yyy[0] > 6):\n",
    "            break\n",
    "            \n",
    "        \n",
    "        year = \"20\" + str(xxx)\n",
    "        year = int(year)\n",
    "        \n",
    "        date_cond = ((trade_county.index.get_level_values(1).month.isin(yyy)) \n",
    "             & (trade_county.index.get_level_values(1).year == year ))\n",
    "        \n",
    "        name = \"M\" + str(yyy) + \"_\" + str(xxx)\n",
    "        \n",
    "        #print(name)\n",
    "        \n",
    "        if count == 0:\n",
    "            \n",
    "            event_study = pd.merge(trade_county.reset_index(),\n",
    "                                   pd.get_dummies(date_cond)[1].rename(name),\n",
    "                                   left_index = True, right_index= True)\n",
    "        else:\n",
    "            \n",
    "            event_study = pd.merge(event_study, \n",
    "                       pd.get_dummies(date_cond)[1].rename(name),\n",
    "                                   left_index = True, right_index= True)\n",
    "               \n",
    "        name_t = name + \"_t\"\n",
    "        \n",
    "        name_r = name + \"_r\"\n",
    "        \n",
    "        name_m = name + \"_m\"\n",
    "        \n",
    "        \n",
    "        # This will be the dummy variable on the leads\n",
    "\n",
    "        event_study[name_r] = event_study.rural_share.multiply(event_study[name], axis = 0)\n",
    "         # This will be the dummy variable on ineraction with rural share\n",
    "\n",
    "        event_study[name_m] = event_study.avg_man_share.multiply(event_study[name], axis = 0) \n",
    "        # This will be the dummy variable on ineraction with goods employment share\n",
    "        \n",
    "        count = count + 1\n",
    "        \n",
    "        tariff_list.append(name_t)\n",
    "        \n",
    "        man_list.append(name_m)\n",
    "        \n",
    "        rural_list.append(name_r)\n",
    "        \n",
    "        #print(count)\n",
    "        \n",
    "######################################################## \n",
    "        \n",
    "event_study.set_index([\"GEOFIPS\", \"time\"],inplace = True)"
   ]
  },
  {
   "cell_type": "markdown",
   "metadata": {},
   "source": [
    "Now run the regression with these interaction terms. "
   ]
  },
  {
   "cell_type": "code",
   "execution_count": 86,
   "metadata": {},
   "outputs": [
    {
     "name": "stdout",
     "output_type": "stream",
     "text": [
      "\n",
      "**********************************************************************************\n",
      "Employment Growth on Tariff Change, Interaction Specification\n",
      "\n",
      "18\n",
      "3252\n",
      "                          PanelOLS Estimation Summary                           \n",
      "================================================================================\n",
      "Dep. Variable:      employment_growth   R-squared:                        0.0048\n",
      "Estimator:                   PanelOLS   R-squared (Between):              0.0052\n",
      "No. Observations:               54927   R-squared (Within):              -0.0274\n",
      "Date:                Thu, Dec 26 2019   R-squared (Overall):             -0.0113\n",
      "Time:                        10:33:11   Log-likelihood                  1.07e+05\n",
      "Cov. Estimator:             Clustered                                           \n",
      "                                        F-statistic:                      76.828\n",
      "Entities:                        3075   P-value                           0.0000\n",
      "Avg Obs:                       17.862   Distribution:                F(19,54890)\n",
      "Min Obs:                       3.0000                                           \n",
      "Max Obs:                       18.000   F-statistic (robust):             6.1443\n",
      "                                        P-value                           0.0000\n",
      "Time periods:                      18   Distribution:                F(19,54890)\n",
      "Avg Obs:                       3051.5                                           \n",
      "Min Obs:                       3041.0                                           \n",
      "Max Obs:                       3061.0                                           \n",
      "                                                                                \n",
      "                                 Parameter Estimates                                 \n",
      "=====================================================================================\n",
      "                   Parameter  Std. Err.     T-stat    P-value    Lower CI    Upper CI\n",
      "-------------------------------------------------------------------------------------\n",
      "const                -0.0096     0.0016    -6.1815     0.0000     -0.0127     -0.0066\n",
      "log_tariff_change    -0.1975     0.0788    -2.5081     0.0121     -0.3519     -0.0432\n",
      "M[1, 2]_18_m          0.0015     0.0092     0.1653     0.8687     -0.0165      0.0196\n",
      "M[3, 4]_18_m          0.0092     0.0089     1.0265     0.3047     -0.0083      0.0266\n",
      "M[5, 6]_18_m          0.0155     0.0088     1.7467     0.0807     -0.0019      0.0328\n",
      "M[7, 8]_18_m          0.0193     0.0092     2.0919     0.0364      0.0012      0.0374\n",
      "M[9, 10]_18_m         0.0249     0.0102     2.4282     0.0152      0.0048      0.0449\n",
      "M[11, 12]_18_m        0.0331     0.0111     2.9764     0.0029      0.0113      0.0549\n",
      "M[1, 2]_19_m          0.0291     0.0105     2.7787     0.0055      0.0086      0.0496\n",
      "M[3, 4]_19_m          0.0248     0.0104     2.3840     0.0171      0.0044      0.0451\n",
      "M[5, 6]_19_m          0.0289     0.0104     2.7806     0.0054      0.0085      0.0492\n",
      "M[1, 2]_18_r         -0.0096     0.0038    -2.5430     0.0110     -0.0170     -0.0022\n",
      "M[3, 4]_18_r         -0.0045     0.0036    -1.2564     0.2090     -0.0115      0.0025\n",
      "M[5, 6]_18_r         -0.0008     0.0033    -0.2405     0.8100     -0.0074      0.0058\n",
      "M[7, 8]_18_r         -0.0013     0.0033    -0.3975     0.6910     -0.0078      0.0052\n",
      "M[9, 10]_18_r        -0.0027     0.0034    -0.7915     0.4287     -0.0093      0.0040\n",
      "M[11, 12]_18_r        0.0052     0.0034     1.4975     0.1343     -0.0016      0.0119\n",
      "M[1, 2]_19_r          0.0072     0.0032     2.2577     0.0240      0.0010      0.0135\n",
      "M[3, 4]_19_r          0.0064     0.0033     1.9365     0.0528  -7.763e-05      0.0129\n",
      "M[5, 6]_19_r          0.0063     0.0034     1.8638     0.0624     -0.0003      0.0128\n",
      "=====================================================================================\n",
      "\n",
      "F-test for Poolability: 25.058\n",
      "P-value: 0.0000\n",
      "Distribution: F(17,54890)\n",
      "\n",
      "Included effects: Time\n"
     ]
    }
   ],
   "source": [
    "print(\"\")\n",
    "print(\"**********************************************************************************\")\n",
    "print(\"Employment Growth on Tariff Change, Interaction Specification\")\n",
    "print(\"\")\n",
    "\n",
    "all_vars = [\"const\", \"log_tariff_change\", 'employment_growth',\"2010_population\",'total_employment',\n",
    "           \"rural_share\", \"man_share\"]\n",
    "\n",
    "all_vars.extend(man_list)\n",
    "\n",
    "all_vars.extend(rural_list)\n",
    "\n",
    "dataset = event_study[all_vars].loc[idx[:,\"2018-01-01\":\"2019-6-01\"],:]\n",
    "\n",
    "exog_vars = [\"const\",\"log_tariff_change\"]\n",
    "\n",
    "weights = dataset[\"2010_population\"].to_frame()\n",
    "# I fought with this alot. the weights shape needs to exaclty match up\n",
    "# with the dataframe for which the estimation is done. So what I do is\n",
    "# slice as above, then let PanelOLS drop things when there are missing \n",
    "# observations\n",
    "\n",
    "weights.replace(to_replace = 0, value = 0.001,inplace = True)\n",
    "# Some countys because of there size and how the QCEW deals with stuff, there are is zero.\n",
    "# PanelOLS does not like 0 weight, so this the the work around. It does not matter. \n",
    "\n",
    "exog_vars.extend(man_list)\n",
    "\n",
    "exog_vars.extend(rural_list)\n",
    "\n",
    "mod = PanelOLS(dataset.employment_growth, dataset[exog_vars],weights = weights,  time_effects = True)\n",
    "\n",
    "fe_res = mod.fit(cov_type='clustered', cluster_entity=True)\n",
    "\n",
    "print(fe_res)"
   ]
  },
  {
   "cell_type": "code",
   "execution_count": 87,
   "metadata": {},
   "outputs": [
    {
     "data": {
      "text/plain": [
       "-0.1975151887059971"
      ]
     },
     "execution_count": 87,
     "metadata": {},
     "output_type": "execute_result"
    }
   ],
   "source": [
    "fe_res.params.log_tariff_change"
   ]
  },
  {
   "cell_type": "markdown",
   "metadata": {},
   "source": [
    "**Aggregate Effects** This provides a simple calcuation for the aggregate outcomes. The consumption number only makes sense with retail employment as it exploits a unitary elasticity of retail employment to PCE."
   ]
  },
  {
   "cell_type": "code",
   "execution_count": 88,
   "metadata": {},
   "outputs": [],
   "source": [
    "def missing_jobs(df):\n",
    "    \n",
    "    foo_df = pd.DataFrame([])\n",
    "    \n",
    "    foo_df[\"g_cft\"] = df.employment_growth - (fe_res.params.log_tariff_change)*df.log_tariff_change\n",
    "    # compute the counterfactual change in growth...\n",
    "\n",
    "    foo_df[\"f_log_value\"] = df.log_employment - df.employment_growth\n",
    "    # this is just so we can line stuff up, e.g. in 2018-12 it will line up\n",
    "    # the 2017-12 value (seen in the data)\n",
    "\n",
    "    foo_df[\"log_value_cft\"] = foo_df.f_log_value + foo_df.g_cft\n",
    "    # This is the counterfactual car value. Take the counterfactual growth rate\n",
    "    # then add it to the previous years log_vale (hence the f_log_value)\n",
    "\n",
    "    foo_df[\"missing_jobs\"] = np.exp(foo_df.log_value_cft) - np.exp(df.log_employment)\n",
    "    # The missing cars take the exp of log value and differences it.\n",
    "    \n",
    "    idx = pd.IndexSlice\n",
    "    \n",
    "    # Jobs are a stock, not a flow. So for each period we come up\n",
    "    # with difference in jobs, then to figure out the change in the flow, I will difference,\n",
    "    # and then sum across stuff.\n",
    "\n",
    "    return foo_df.loc[idx[:,\"2018-01-01\":\"2019-07-01\"],:].missing_jobs.diff(1).sum()\n",
    "    # "
   ]
  },
  {
   "cell_type": "code",
   "execution_count": 89,
   "metadata": {},
   "outputs": [],
   "source": [
    "grp = trade_county[[\"log_employment\", \"employment_growth\", \"log_tariff_change\"]].groupby([\"GEOFIPS\"])\n",
    "\n",
    "ms_jobs = grp.apply(missing_jobs)\n",
    "\n",
    "emp_cnty = trade_county[\"total_employment\"].groupby([\"GEOFIPS\"]).mean()"
   ]
  },
  {
   "cell_type": "code",
   "execution_count": 90,
   "metadata": {},
   "outputs": [],
   "source": [
    "test = pd.concat([ms_jobs, emp_cnty], axis = 1)"
   ]
  },
  {
   "cell_type": "code",
   "execution_count": 91,
   "metadata": {},
   "outputs": [],
   "source": [
    "test.columns = [\"missing_jobs\", \"2017_emp\"]"
   ]
  },
  {
   "cell_type": "code",
   "execution_count": 92,
   "metadata": {},
   "outputs": [],
   "source": [
    "test[\"frac_lost\"] = test.missing_jobs / test[\"2017_emp\"]"
   ]
  },
  {
   "cell_type": "code",
   "execution_count": 93,
   "metadata": {},
   "outputs": [
    {
     "data": {
      "text/plain": [
       "missing_jobs       4.956731\n",
       "2017_emp        5510.494000\n",
       "frac_lost          0.001737\n",
       "dtype: float64"
      ]
     },
     "execution_count": 93,
     "metadata": {},
     "output_type": "execute_result"
    }
   ],
   "source": [
    "test.sort_values(by = [\"frac_lost\"], ascending = False).iloc[0:1000].mean()"
   ]
  },
  {
   "cell_type": "code",
   "execution_count": 94,
   "metadata": {},
   "outputs": [
    {
     "data": {
      "text/plain": [
       "GEOFIPS\n",
       "1001     -0.177440\n",
       "1003     18.840637\n",
       "1005      3.613286\n",
       "1007      1.907242\n",
       "1009      1.369746\n",
       "           ...    \n",
       "72113     9.013385\n",
       "72115     0.962300\n",
       "72117     0.194139\n",
       "72119     2.072020\n",
       "72121     7.092882\n",
       "Length: 3252, dtype: float64"
      ]
     },
     "execution_count": 94,
     "metadata": {},
     "output_type": "execute_result"
    }
   ],
   "source": [
    "ms_jobs"
   ]
  },
  {
   "cell_type": "code",
   "execution_count": 95,
   "metadata": {},
   "outputs": [],
   "source": [
    "ms_jobs = ms_jobs.to_frame(name = \"lost_jobs\")"
   ]
  },
  {
   "cell_type": "code",
   "execution_count": 96,
   "metadata": {},
   "outputs": [
    {
     "name": "stdout",
     "output_type": "stream",
     "text": [
      "\n",
      "**********************************************************************************\n",
      "Aggregate Effects\n",
      "\n",
      "Total Lost Jobs 22498.6\n"
     ]
    }
   ],
   "source": [
    "print(\"\")\n",
    "print(\"**********************************************************************************\")\n",
    "print(\"Aggregate Effects\")\n",
    "print(\"\")\n",
    "print(\"Total Lost Jobs\", round(ms_jobs.sum()[0],1))\n",
    "# This should be something like 25000 retail jobs lost"
   ]
  },
  {
   "cell_type": "code",
   "execution_count": 101,
   "metadata": {},
   "outputs": [
    {
     "data": {
      "text/html": [
       "<div>\n",
       "<style scoped>\n",
       "    .dataframe tbody tr th:only-of-type {\n",
       "        vertical-align: middle;\n",
       "    }\n",
       "\n",
       "    .dataframe tbody tr th {\n",
       "        vertical-align: top;\n",
       "    }\n",
       "\n",
       "    .dataframe thead th {\n",
       "        text-align: right;\n",
       "    }\n",
       "</style>\n",
       "<table border=\"1\" class=\"dataframe\">\n",
       "  <thead>\n",
       "    <tr style=\"text-align: right;\">\n",
       "      <th></th>\n",
       "      <th>lost_jobs</th>\n",
       "    </tr>\n",
       "    <tr>\n",
       "      <th>GEOFIPS</th>\n",
       "      <th></th>\n",
       "    </tr>\n",
       "  </thead>\n",
       "  <tbody>\n",
       "    <tr>\n",
       "      <td>1001</td>\n",
       "      <td>-0.177440</td>\n",
       "    </tr>\n",
       "    <tr>\n",
       "      <td>1003</td>\n",
       "      <td>18.840637</td>\n",
       "    </tr>\n",
       "    <tr>\n",
       "      <td>1005</td>\n",
       "      <td>3.613286</td>\n",
       "    </tr>\n",
       "    <tr>\n",
       "      <td>1007</td>\n",
       "      <td>1.907242</td>\n",
       "    </tr>\n",
       "    <tr>\n",
       "      <td>1009</td>\n",
       "      <td>1.369746</td>\n",
       "    </tr>\n",
       "    <tr>\n",
       "      <td>1011</td>\n",
       "      <td>0.476707</td>\n",
       "    </tr>\n",
       "    <tr>\n",
       "      <td>1013</td>\n",
       "      <td>0.707260</td>\n",
       "    </tr>\n",
       "    <tr>\n",
       "      <td>1015</td>\n",
       "      <td>8.594741</td>\n",
       "    </tr>\n",
       "    <tr>\n",
       "      <td>1017</td>\n",
       "      <td>-0.028080</td>\n",
       "    </tr>\n",
       "    <tr>\n",
       "      <td>1019</td>\n",
       "      <td>3.182374</td>\n",
       "    </tr>\n",
       "    <tr>\n",
       "      <td>1021</td>\n",
       "      <td>4.140046</td>\n",
       "    </tr>\n",
       "    <tr>\n",
       "      <td>1023</td>\n",
       "      <td>1.420197</td>\n",
       "    </tr>\n",
       "    <tr>\n",
       "      <td>1025</td>\n",
       "      <td>5.917647</td>\n",
       "    </tr>\n",
       "    <tr>\n",
       "      <td>1027</td>\n",
       "      <td>3.261505</td>\n",
       "    </tr>\n",
       "    <tr>\n",
       "      <td>1029</td>\n",
       "      <td>0.264646</td>\n",
       "    </tr>\n",
       "    <tr>\n",
       "      <td>1031</td>\n",
       "      <td>7.765484</td>\n",
       "    </tr>\n",
       "    <tr>\n",
       "      <td>1033</td>\n",
       "      <td>1.703878</td>\n",
       "    </tr>\n",
       "    <tr>\n",
       "      <td>1035</td>\n",
       "      <td>0.584970</td>\n",
       "    </tr>\n",
       "    <tr>\n",
       "      <td>1037</td>\n",
       "      <td>0.554616</td>\n",
       "    </tr>\n",
       "    <tr>\n",
       "      <td>1039</td>\n",
       "      <td>0.375379</td>\n",
       "    </tr>\n",
       "  </tbody>\n",
       "</table>\n",
       "</div>"
      ],
      "text/plain": [
       "         lost_jobs\n",
       "GEOFIPS           \n",
       "1001     -0.177440\n",
       "1003     18.840637\n",
       "1005      3.613286\n",
       "1007      1.907242\n",
       "1009      1.369746\n",
       "1011      0.476707\n",
       "1013      0.707260\n",
       "1015      8.594741\n",
       "1017     -0.028080\n",
       "1019      3.182374\n",
       "1021      4.140046\n",
       "1023      1.420197\n",
       "1025      5.917647\n",
       "1027      3.261505\n",
       "1029      0.264646\n",
       "1031      7.765484\n",
       "1033      1.703878\n",
       "1035      0.584970\n",
       "1037      0.554616\n",
       "1039      0.375379"
      ]
     },
     "execution_count": 101,
     "metadata": {},
     "output_type": "execute_result"
    }
   ],
   "source": [
    "ms_jobs.head(20)"
   ]
  },
  {
   "cell_type": "code",
   "execution_count": null,
   "metadata": {},
   "outputs": [],
   "source": [
    "ms_jobs.to_csv(file_path + \"\\\\data\\\\lost_jobs.csv\")"
   ]
  },
  {
   "cell_type": "code",
   "execution_count": 127,
   "metadata": {},
   "outputs": [
    {
     "name": "stdout",
     "output_type": "stream",
     "text": [
      "Total Consumption, Billions 19.8\n"
     ]
    }
   ],
   "source": [
    "PCE = 14000000000000\n",
    "\n",
    "total_cost = PCE*(ms_jobs.sum()/ \n",
    "                (np.exp(trade_county[\"log_employment\"].xs('2017-06-1', level=1)).sum()))\n",
    "\n",
    "clost = total_cost\n",
    "\n",
    "\n",
    "if emp_measure == \"emp_rtl\":\n",
    "\n",
    "    print(\"Total Consumption Loss, Billions\", round(clost/1000000000,1)[0])"
   ]
  },
  {
   "cell_type": "code",
   "execution_count": 124,
   "metadata": {},
   "outputs": [],
   "source": [
    "# PCE is about 14,000 billion. (14 trillion)\n",
    "# Then we will mulitpliy by the percent of retail jobs lost \n",
    "# the same as percent of PCE lost (under a one for one assumption)\n",
    "# this tells us the lost consumption for that group. Then divide through\n",
    "# and we get reduction in consumption per group\n",
    "\n",
    "PCE = 14000000000000\n",
    "\n",
    "group = most_exposed\n",
    "\n",
    "total_cost = PCE*(ms_jobs.loc[group].sum()/ \n",
    "                (np.exp(trade_county[\"log_employment\"].xs('2017-06-1', level=1)).sum()))\n",
    "\n",
    "clost_most = total_cost / trade_county[\"total_employment\"].loc[group].xs('2017-06-1', level=1).sum()\n",
    "\n",
    "group = least_exposed\n",
    "\n",
    "total_cost = PCE*(ms_jobs.loc[group].sum()/ \n",
    "                (np.exp(trade_county[\"log_employment\"].xs('2017-06-1', level=1)).sum()))\n",
    "\n",
    "clost_least = total_cost / trade_county[\"total_employment\"].loc[group].xs('2017-06-1', level=1).sum()"
   ]
  },
  {
   "cell_type": "code",
   "execution_count": 125,
   "metadata": {},
   "outputs": [
    {
     "name": "stdout",
     "output_type": "stream",
     "text": [
      "Consumption Loss Per Worker, Most Exposed: lost_jobs    629.515\n",
      "dtype: float64\n",
      "Consumption Loss Per Worker, Least Exposed: lost_jobs    46.849\n",
      "dtype: float64\n"
     ]
    }
   ],
   "source": [
    "if emp_measure == \"emp_rtl\":\n",
    "\n",
    "    print(\"Consumption Loss Per Worker, Most Exposed:\", round(clost_most,3))\n",
    "    print(\"Consumption Loss Per Worker, Least Exposed:\", round(clost_least,3))"
   ]
  },
  {
   "cell_type": "markdown",
   "metadata": {},
   "source": [
    "### Unweigted resuts\n",
    "\n",
    "#### Change on Change, no fixed effects or time effects"
   ]
  },
  {
   "cell_type": "code",
   "execution_count": 34,
   "metadata": {},
   "outputs": [
    {
     "name": "stdout",
     "output_type": "stream",
     "text": [
      "                          PanelOLS Estimation Summary                           \n",
      "================================================================================\n",
      "Dep. Variable:      employment_growth   R-squared:                     2.116e-06\n",
      "Estimator:                   PanelOLS   R-squared (Between):             -0.0002\n",
      "No. Observations:               57858   R-squared (Within):            1.549e-05\n",
      "Date:                Thu, Dec 05 2019   R-squared (Overall):           2.116e-06\n",
      "Time:                        12:18:23   Log-likelihood                 7.898e+04\n",
      "Cov. Estimator:             Clustered                                           \n",
      "                                        F-statistic:                      0.1224\n",
      "Entities:                        3225   P-value                           0.7264\n",
      "Avg Obs:                       17.940   Distribution:                 F(1,57856)\n",
      "Min Obs:                       3.0000                                           \n",
      "Max Obs:                       18.000   F-statistic (robust):             0.0081\n",
      "                                        P-value                           0.9284\n",
      "Time periods:                      18   Distribution:                 F(1,57856)\n",
      "Avg Obs:                       3214.3                                           \n",
      "Min Obs:                       3209.0                                           \n",
      "Max Obs:                       3219.0                                           \n",
      "                                                                                \n",
      "                                 Parameter Estimates                                 \n",
      "=====================================================================================\n",
      "                   Parameter  Std. Err.     T-stat    P-value    Lower CI    Upper CI\n",
      "-------------------------------------------------------------------------------------\n",
      "const                 0.0107     0.0009     11.965     0.0000      0.0090      0.0125\n",
      "log_tariff_change     0.0061     0.0680     0.0898     0.9284     -0.1273      0.1395\n",
      "=====================================================================================\n",
      "\n",
      "\n"
     ]
    }
   ],
   "source": [
    "all_vars = [\"const\", \"log_tariff_change\", 'employment_growth']\n",
    "\n",
    "dataset = trade_county[all_vars].loc[idx[:,start:\"2019-06-01\"],:]\n",
    "\n",
    "exog_vars = [\"const\",\"log_tariff_change\"]\n",
    "\n",
    "mod = PanelOLS(dataset.employment_growth, dataset[exog_vars])\n",
    "\n",
    "fe_res = mod.fit(cov_type='clustered', cluster_entity=True)\n",
    "\n",
    "if driver_flag != True:\n",
    "\n",
    "    print(fe_res)\n",
    "\n",
    "#df = pd.concat([dataset.employment_growth, fe_res.fitted_values],1).dropna()\n",
    "#print(df.corr().iloc[0,1] ** 2)"
   ]
  },
  {
   "cell_type": "markdown",
   "metadata": {},
   "source": [
    "#### Change on Change, time effects"
   ]
  },
  {
   "cell_type": "code",
   "execution_count": 35,
   "metadata": {},
   "outputs": [
    {
     "name": "stdout",
     "output_type": "stream",
     "text": [
      "                          PanelOLS Estimation Summary                           \n",
      "================================================================================\n",
      "Dep. Variable:      employment_growth   R-squared:                     1.736e-06\n",
      "Estimator:                   PanelOLS   R-squared (Between):             -0.0001\n",
      "No. Observations:               57858   R-squared (Within):           -1.991e-05\n",
      "Date:                Thu, Dec 05 2019   R-squared (Overall):          -6.312e-06\n",
      "Time:                        12:19:00   Log-likelihood                 7.901e+04\n",
      "Cov. Estimator:             Clustered                                           \n",
      "                                        F-statistic:                      0.1004\n",
      "Entities:                        3225   P-value                           0.7513\n",
      "Avg Obs:                       17.940   Distribution:                 F(1,57839)\n",
      "Min Obs:                       3.0000                                           \n",
      "Max Obs:                       18.000   F-statistic (robust):             0.0057\n",
      "                                        P-value                           0.9396\n",
      "Time periods:                      18   Distribution:                 F(1,57839)\n",
      "Avg Obs:                       3214.3                                           \n",
      "Min Obs:                       3209.0                                           \n",
      "Max Obs:                       3219.0                                           \n",
      "                                                                                \n",
      "                                 Parameter Estimates                                 \n",
      "=====================================================================================\n",
      "                   Parameter  Std. Err.     T-stat    P-value    Lower CI    Upper CI\n",
      "-------------------------------------------------------------------------------------\n",
      "const                 0.0108     0.0010     11.376     0.0000      0.0089      0.0127\n",
      "log_tariff_change    -0.0061     0.0804    -0.0758     0.9396     -0.1636      0.1514\n",
      "=====================================================================================\n",
      "\n",
      "F-test for Poolability: 3.1289\n",
      "P-value: 0.0000\n",
      "Distribution: F(17,57839)\n",
      "\n",
      "Included effects: Time\n"
     ]
    }
   ],
   "source": [
    "all_vars = [\"const\", \"log_tariff_change\", 'employment_growth']\n",
    "\n",
    "dataset = trade_county[all_vars].loc[idx[:,start:\"2019-06-01\"],:]\n",
    "\n",
    "exog_vars = [\"const\",\"log_tariff_change\"]\n",
    "\n",
    "mod = PanelOLS(dataset.employment_growth, dataset[exog_vars], time_effects = True)\n",
    "\n",
    "fe_res = mod.fit(cov_type='clustered', cluster_entity=True)\n",
    "\n",
    "if driver_flag != True:\n",
    "\n",
    "    print(fe_res)"
   ]
  },
  {
   "cell_type": "markdown",
   "metadata": {},
   "source": [
    "#### Change on Change, time and county-level fixed effects"
   ]
  },
  {
   "cell_type": "code",
   "execution_count": 36,
   "metadata": {},
   "outputs": [
    {
     "name": "stdout",
     "output_type": "stream",
     "text": [
      "                          PanelOLS Estimation Summary                           \n",
      "================================================================================\n",
      "Dep. Variable:      employment_growth   R-squared:                     7.483e-06\n",
      "Estimator:                   PanelOLS   R-squared (Between):             -0.0002\n",
      "No. Observations:               57858   R-squared (Within):             2.88e-05\n",
      "Date:                Thu, Dec 05 2019   R-squared (Overall):           -1.39e-06\n",
      "Time:                        12:19:01   Log-likelihood                 1.027e+05\n",
      "Cov. Estimator:             Clustered                                           \n",
      "                                        F-statistic:                      0.4087\n",
      "Entities:                        3225   P-value                           0.5227\n",
      "Avg Obs:                       17.940   Distribution:                 F(1,54615)\n",
      "Min Obs:                       3.0000                                           \n",
      "Max Obs:                       18.000   F-statistic (robust):             0.0229\n",
      "                                        P-value                           0.8798\n",
      "Time periods:                      18   Distribution:                 F(1,54615)\n",
      "Avg Obs:                       3214.3                                           \n",
      "Min Obs:                       3209.0                                           \n",
      "Max Obs:                       3219.0                                           \n",
      "                                                                                \n",
      "                                 Parameter Estimates                                 \n",
      "=====================================================================================\n",
      "                   Parameter  Std. Err.     T-stat    P-value    Lower CI    Upper CI\n",
      "-------------------------------------------------------------------------------------\n",
      "const                 0.0106     0.0008     13.746     0.0000      0.0091      0.0122\n",
      "log_tariff_change     0.0140     0.0924     0.1513     0.8798     -0.1672      0.1951\n",
      "=====================================================================================\n",
      "\n",
      "F-test for Poolability: 21.372\n",
      "P-value: 0.0000\n",
      "Distribution: F(3241,54615)\n",
      "\n",
      "Included effects: Entity, Time\n"
     ]
    }
   ],
   "source": [
    "all_vars = [\"const\", \"log_tariff_change\", 'employment_growth']\n",
    "\n",
    "dataset = trade_county[all_vars].loc[idx[:,start:\"2019-06-01\"],:]\n",
    "\n",
    "exog_vars = [\"const\",\"log_tariff_change\"]\n",
    "\n",
    "mod = PanelOLS(dataset.employment_growth, dataset[exog_vars], entity_effects=True, time_effects = True)\n",
    "\n",
    "fe_res = mod.fit(cov_type='clustered', cluster_entity=True)\n",
    "\n",
    "if driver_flag != True:\n",
    "\n",
    "    print(fe_res)"
   ]
  },
  {
   "cell_type": "markdown",
   "metadata": {},
   "source": [
    "This is the most interesting one. Here things go to zero and there is no effect. What I think the weighting is really doing is variance reduction rather than some issue about means. So there are a bunch of small county's with employment patterns all over the place. By weighting on county size, this reduces the impact those guys have and, hence, you get the different result. "
   ]
  },
  {
   "cell_type": "code",
   "execution_count": 37,
   "metadata": {},
   "outputs": [
    {
     "data": {
      "text/plain": [
       "0.7644"
      ]
     },
     "execution_count": 37,
     "metadata": {},
     "output_type": "execute_result"
    }
   ],
   "source": [
    "0.21*(3.79-0.15)"
   ]
  }
 ],
 "metadata": {
  "kernelspec": {
   "display_name": "Python 3",
   "language": "python",
   "name": "python3"
  },
  "language_info": {
   "codemirror_mode": {
    "name": "ipython",
    "version": 3
   },
   "file_extension": ".py",
   "mimetype": "text/x-python",
   "name": "python",
   "nbconvert_exporter": "python",
   "pygments_lexer": "ipython3",
   "version": "3.7.3"
  }
 },
 "nbformat": 4,
 "nbformat_minor": 2
}
