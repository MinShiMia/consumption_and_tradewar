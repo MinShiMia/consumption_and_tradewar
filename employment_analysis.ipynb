{
 "cells": [
  {
   "cell_type": "code",
   "execution_count": 344,
   "metadata": {},
   "outputs": [],
   "source": [
    "import pandas as pd             # data package\n",
    "import matplotlib.pyplot as plt # graphics \n",
    "import datetime as dt\n",
    "import numpy as np\n",
    "\n",
    "import requests, io             # internet and input tools  \n",
    "import zipfile as zf            # zip file tools \n",
    "import os  \n",
    "\n",
    "from numpy.polynomial.polynomial import polyfit\n",
    "\n",
    "import pyarrow as pa\n",
    "import pyarrow.parquet as pq\n",
    "\n",
    "import statsmodels.api as sm\n",
    "import statsmodels\n",
    "#import statsmodels.formula.api as smf\n",
    "from linearmodels.iv import IV2SLS\n",
    "from linearmodels.panel import PanelOLS\n",
    "\n",
    "\n",
    "\n",
    "import warnings\n",
    "warnings.filterwarnings(\"ignore\")"
   ]
  },
  {
   "cell_type": "markdown",
   "metadata": {},
   "source": [
    "### Preface\n",
    "\n",
    "This notebook just explores the employment analysis part of the paper [\"The Consumption Response to Trade Shocks: Evidence from the US-China Trade War.\"](http://www.waugheconomics.com/uploads/2/2/5/6/22563786/waugh_consumption.pdf) . This is in Section 5. It mimics many parts of the auto analysis (visualization, tabular representations, and regression analysis). Below I also report the unweighted an weighted regression results.\n",
    "\n",
    "### Steup for analysis\n",
    "\n",
    "Just some basic things, bring in the data, make the transformations that we want, etc..."
   ]
  },
  {
   "cell_type": "code",
   "execution_count": 345,
   "metadata": {},
   "outputs": [],
   "source": [
    "fig_path = \"C:\\\\github\\\\expenditure_tradeshocks\\\\figures\""
   ]
  },
  {
   "cell_type": "markdown",
   "metadata": {},
   "source": [
    "This is the cell below to change if you want to toggle between all employment and only goods producing employment."
   ]
  },
  {
   "cell_type": "code",
   "execution_count": 346,
   "metadata": {},
   "outputs": [],
   "source": [
    "file_path = os.getcwd()\n",
    "\n",
    "#trade_county = pq.read_table(file_path + \"\\\\data\\\\trade_employment_goods.parquet\").to_pandas()\n",
    "\n",
    "trade_county = pq.read_table(file_path + \"\\\\data\\\\trade_employment_2014.parquet\").to_pandas()"
   ]
  },
  {
   "cell_type": "code",
   "execution_count": 347,
   "metadata": {},
   "outputs": [],
   "source": [
    "trade_county[\"time\"] = pd.to_datetime(trade_county.time)\n",
    "\n",
    "trade_county.set_index([\"area_fips\", \"time\"],inplace = True)"
   ]
  },
  {
   "cell_type": "code",
   "execution_count": 348,
   "metadata": {},
   "outputs": [],
   "source": [
    "trade_county[\"log_tariff\"] = np.log(1+.01*trade_county[\"tariff\"])\n",
    "\n",
    "trade_county[\"log_exp_total\"] = np.log(trade_county[\"total_exp_pc\"]).replace(-np.inf, np.nan)\n",
    "\n",
    "trade_county[\"log_exp_china\"] = np.log(trade_county[\"china_exp_pc\"]).replace(-np.inf, np.nan)\n",
    "\n",
    "emp_measure = \"emp_n_gds\"\n",
    "# Here you specify the type of employment you want. emp_all is total employment. emp_gds = goods employment. \n",
    "\n",
    "trade_county[\"log_employment\"] = np.log(trade_county[emp_measure]).replace(-np.inf, np.nan)\n",
    "# Now given how the file is setup, we can select which type of employment.\n",
    "# all private, goods, or manufacturing.\n",
    "\n",
    "trade_county[\"log_employment_nt\"] = np.log(trade_county[\"emp_all\"] - \n",
    "                                          trade_county[\"emp_gds\"]).replace(-np.inf, np.nan)\n",
    "\n",
    "trade_county[\"const\"] = 1"
   ]
  },
  {
   "cell_type": "code",
   "execution_count": 349,
   "metadata": {},
   "outputs": [],
   "source": [
    "trade_county.reset_index(inplace = True)\n",
    "\n",
    "trade_county.rename({\"area_fips\": \"GEOFIPS\"},axis = 1, inplace = True)\n",
    "\n",
    "trade_county[\"state_fips\"] = trade_county[\"GEOFIPS\"].astype(str).str[0:2]\n",
    "\n",
    "trade_county[\"GEOFIPS\"] = trade_county[\"GEOFIPS\"].astype(int)"
   ]
  },
  {
   "cell_type": "code",
   "execution_count": 350,
   "metadata": {},
   "outputs": [],
   "source": [
    "trade_county.set_index([\"GEOFIPS\", \"time\"], inplace = True)"
   ]
  },
  {
   "cell_type": "code",
   "execution_count": 351,
   "metadata": {},
   "outputs": [
    {
     "data": {
      "text/html": [
       "<div>\n",
       "<style scoped>\n",
       "    .dataframe tbody tr th:only-of-type {\n",
       "        vertical-align: middle;\n",
       "    }\n",
       "\n",
       "    .dataframe tbody tr th {\n",
       "        vertical-align: top;\n",
       "    }\n",
       "\n",
       "    .dataframe thead th {\n",
       "        text-align: right;\n",
       "    }\n",
       "</style>\n",
       "<table border=\"1\" class=\"dataframe\">\n",
       "  <thead>\n",
       "    <tr style=\"text-align: right;\">\n",
       "      <th></th>\n",
       "      <th></th>\n",
       "      <th>total_exp_pc</th>\n",
       "      <th>china_exp_pc</th>\n",
       "      <th>tariff</th>\n",
       "      <th>emplvl_2017</th>\n",
       "      <th>fips</th>\n",
       "      <th>total_employment</th>\n",
       "      <th>emp_all</th>\n",
       "      <th>emp_gds</th>\n",
       "      <th>emp_n_gds</th>\n",
       "      <th>rural_share</th>\n",
       "      <th>2010_population</th>\n",
       "      <th>2017_income</th>\n",
       "      <th>2017_population</th>\n",
       "      <th>log_tariff</th>\n",
       "      <th>log_exp_total</th>\n",
       "      <th>log_exp_china</th>\n",
       "      <th>log_employment</th>\n",
       "      <th>log_employment_nt</th>\n",
       "      <th>const</th>\n",
       "      <th>state_fips</th>\n",
       "    </tr>\n",
       "    <tr>\n",
       "      <th>GEOFIPS</th>\n",
       "      <th>time</th>\n",
       "      <th></th>\n",
       "      <th></th>\n",
       "      <th></th>\n",
       "      <th></th>\n",
       "      <th></th>\n",
       "      <th></th>\n",
       "      <th></th>\n",
       "      <th></th>\n",
       "      <th></th>\n",
       "      <th></th>\n",
       "      <th></th>\n",
       "      <th></th>\n",
       "      <th></th>\n",
       "      <th></th>\n",
       "      <th></th>\n",
       "      <th></th>\n",
       "      <th></th>\n",
       "      <th></th>\n",
       "      <th></th>\n",
       "      <th></th>\n",
       "    </tr>\n",
       "  </thead>\n",
       "  <tbody>\n",
       "    <tr>\n",
       "      <td rowspan=\"5\" valign=\"top\">10001</td>\n",
       "      <td>2014-01-01</td>\n",
       "      <td>NaN</td>\n",
       "      <td>NaN</td>\n",
       "      <td>1.069526</td>\n",
       "      <td>NaN</td>\n",
       "      <td>None</td>\n",
       "      <td>29514.0</td>\n",
       "      <td>0.0</td>\n",
       "      <td>0.0</td>\n",
       "      <td>37089.0</td>\n",
       "      <td>0.269694</td>\n",
       "      <td>162310.0</td>\n",
       "      <td>57647.0</td>\n",
       "      <td>173145.0</td>\n",
       "      <td>0.010638</td>\n",
       "      <td>NaN</td>\n",
       "      <td>NaN</td>\n",
       "      <td>10.521076</td>\n",
       "      <td>NaN</td>\n",
       "      <td>1</td>\n",
       "      <td>10</td>\n",
       "    </tr>\n",
       "    <tr>\n",
       "      <td>2014-02-01</td>\n",
       "      <td>NaN</td>\n",
       "      <td>NaN</td>\n",
       "      <td>1.069526</td>\n",
       "      <td>NaN</td>\n",
       "      <td>None</td>\n",
       "      <td>29514.0</td>\n",
       "      <td>0.0</td>\n",
       "      <td>0.0</td>\n",
       "      <td>37024.0</td>\n",
       "      <td>0.269694</td>\n",
       "      <td>162310.0</td>\n",
       "      <td>57647.0</td>\n",
       "      <td>173145.0</td>\n",
       "      <td>0.010638</td>\n",
       "      <td>NaN</td>\n",
       "      <td>NaN</td>\n",
       "      <td>10.519322</td>\n",
       "      <td>NaN</td>\n",
       "      <td>1</td>\n",
       "      <td>10</td>\n",
       "    </tr>\n",
       "    <tr>\n",
       "      <td>2014-03-01</td>\n",
       "      <td>NaN</td>\n",
       "      <td>NaN</td>\n",
       "      <td>1.069526</td>\n",
       "      <td>NaN</td>\n",
       "      <td>None</td>\n",
       "      <td>29514.0</td>\n",
       "      <td>0.0</td>\n",
       "      <td>0.0</td>\n",
       "      <td>37254.0</td>\n",
       "      <td>0.269694</td>\n",
       "      <td>162310.0</td>\n",
       "      <td>57647.0</td>\n",
       "      <td>173145.0</td>\n",
       "      <td>0.010638</td>\n",
       "      <td>NaN</td>\n",
       "      <td>NaN</td>\n",
       "      <td>10.525515</td>\n",
       "      <td>NaN</td>\n",
       "      <td>1</td>\n",
       "      <td>10</td>\n",
       "    </tr>\n",
       "    <tr>\n",
       "      <td>2014-04-01</td>\n",
       "      <td>NaN</td>\n",
       "      <td>NaN</td>\n",
       "      <td>1.069526</td>\n",
       "      <td>NaN</td>\n",
       "      <td>None</td>\n",
       "      <td>29514.0</td>\n",
       "      <td>0.0</td>\n",
       "      <td>0.0</td>\n",
       "      <td>37875.0</td>\n",
       "      <td>0.269694</td>\n",
       "      <td>162310.0</td>\n",
       "      <td>57647.0</td>\n",
       "      <td>173145.0</td>\n",
       "      <td>0.010638</td>\n",
       "      <td>NaN</td>\n",
       "      <td>NaN</td>\n",
       "      <td>10.542047</td>\n",
       "      <td>NaN</td>\n",
       "      <td>1</td>\n",
       "      <td>10</td>\n",
       "    </tr>\n",
       "    <tr>\n",
       "      <td>2014-05-01</td>\n",
       "      <td>NaN</td>\n",
       "      <td>NaN</td>\n",
       "      <td>1.069526</td>\n",
       "      <td>NaN</td>\n",
       "      <td>None</td>\n",
       "      <td>29514.0</td>\n",
       "      <td>0.0</td>\n",
       "      <td>0.0</td>\n",
       "      <td>38005.0</td>\n",
       "      <td>0.269694</td>\n",
       "      <td>162310.0</td>\n",
       "      <td>57647.0</td>\n",
       "      <td>173145.0</td>\n",
       "      <td>0.010638</td>\n",
       "      <td>NaN</td>\n",
       "      <td>NaN</td>\n",
       "      <td>10.545473</td>\n",
       "      <td>NaN</td>\n",
       "      <td>1</td>\n",
       "      <td>10</td>\n",
       "    </tr>\n",
       "  </tbody>\n",
       "</table>\n",
       "</div>"
      ],
      "text/plain": [
       "                    total_exp_pc  china_exp_pc    tariff  emplvl_2017  fips  \\\n",
       "GEOFIPS time                                                                  \n",
       "10001   2014-01-01           NaN           NaN  1.069526          NaN  None   \n",
       "        2014-02-01           NaN           NaN  1.069526          NaN  None   \n",
       "        2014-03-01           NaN           NaN  1.069526          NaN  None   \n",
       "        2014-04-01           NaN           NaN  1.069526          NaN  None   \n",
       "        2014-05-01           NaN           NaN  1.069526          NaN  None   \n",
       "\n",
       "                    total_employment  emp_all  emp_gds  emp_n_gds  \\\n",
       "GEOFIPS time                                                        \n",
       "10001   2014-01-01           29514.0      0.0      0.0    37089.0   \n",
       "        2014-02-01           29514.0      0.0      0.0    37024.0   \n",
       "        2014-03-01           29514.0      0.0      0.0    37254.0   \n",
       "        2014-04-01           29514.0      0.0      0.0    37875.0   \n",
       "        2014-05-01           29514.0      0.0      0.0    38005.0   \n",
       "\n",
       "                    rural_share  2010_population  2017_income  \\\n",
       "GEOFIPS time                                                    \n",
       "10001   2014-01-01     0.269694         162310.0      57647.0   \n",
       "        2014-02-01     0.269694         162310.0      57647.0   \n",
       "        2014-03-01     0.269694         162310.0      57647.0   \n",
       "        2014-04-01     0.269694         162310.0      57647.0   \n",
       "        2014-05-01     0.269694         162310.0      57647.0   \n",
       "\n",
       "                    2017_population  log_tariff  log_exp_total  log_exp_china  \\\n",
       "GEOFIPS time                                                                    \n",
       "10001   2014-01-01         173145.0    0.010638            NaN            NaN   \n",
       "        2014-02-01         173145.0    0.010638            NaN            NaN   \n",
       "        2014-03-01         173145.0    0.010638            NaN            NaN   \n",
       "        2014-04-01         173145.0    0.010638            NaN            NaN   \n",
       "        2014-05-01         173145.0    0.010638            NaN            NaN   \n",
       "\n",
       "                    log_employment  log_employment_nt  const state_fips  \n",
       "GEOFIPS time                                                             \n",
       "10001   2014-01-01       10.521076                NaN      1         10  \n",
       "        2014-02-01       10.519322                NaN      1         10  \n",
       "        2014-03-01       10.525515                NaN      1         10  \n",
       "        2014-04-01       10.542047                NaN      1         10  \n",
       "        2014-05-01       10.545473                NaN      1         10  "
      ]
     },
     "execution_count": 351,
     "metadata": {},
     "output_type": "execute_result"
    }
   ],
   "source": [
    "trade_county.head()"
   ]
  },
  {
   "cell_type": "markdown",
   "metadata": {},
   "source": [
    "### Simple Cuts of Employment Data by Tariff Exposure\n",
    "\n",
    "Here is the strategy. First, compute the quantiles of tariff exposure for each county. Then compute year over year sales growth for each county. Note that since this is in growth rates, this takes out any county level \"fixed effect\" and removes any seasonal component. \n",
    "\n",
    "Then we will simply plot year over year employment growth, for the (mean or median) county in a particular part of the distribution of tariff exposure.\n",
    "\n",
    "This stuff is not reported in the paper, but is here to mimic the results for the autos.\n",
    "\n",
    "Note the stuff below will also replicate the summary statistics in the paper."
   ]
  },
  {
   "cell_type": "code",
   "execution_count": 352,
   "metadata": {},
   "outputs": [],
   "source": [
    "# First take growth rates\n",
    "\n",
    "# note , I'm a bit confused about why the sorting,\n",
    "# here is that because of some missing values, the resulting dateframe from the \n",
    "# first operation may be out of place, so we need to resort things to make sure that\n",
    "# the time difference is correct.\n",
    "trade_county.sort_values([\"GEOFIPS\", \"time\"], inplace = True)\n",
    "\n",
    "trade_county[\"tariff_change\"] = trade_county.groupby([\"GEOFIPS\"]).tariff.diff(12)\n",
    "\n",
    "trade_county.sort_values([\"GEOFIPS\", \"time\"], inplace = True)\n",
    "\n",
    "trade_county[\"log_tariff_change\"] = trade_county.groupby([\"GEOFIPS\"]).log_tariff.diff(12)\n",
    "\n",
    "trade_county.sort_values([\"GEOFIPS\", \"time\"], inplace = True)\n",
    "\n",
    "trade_county[\"employment_growth\"] = trade_county.groupby([\"GEOFIPS\"]).log_employment.diff(12)\n",
    "\n",
    "trade_county.sort_values([\"GEOFIPS\", \"time\"], inplace = True)\n",
    "\n",
    "trade_county[\"nt_employment_growth\"] = trade_county.groupby([\"GEOFIPS\"]).log_employment_nt.diff(12)\n",
    "\n",
    "trade_county.sort_values([\"GEOFIPS\", \"time\"], inplace = True)"
   ]
  },
  {
   "cell_type": "code",
   "execution_count": 353,
   "metadata": {},
   "outputs": [],
   "source": [
    "# Then what we will do is look at the change in the taiff distribution...\n",
    "\n",
    "exposure = pd.qcut(trade_county.xs('2018-12-1', level=1).tariff_change, 4 ,labels = False)\n",
    "\n",
    "#median_exposure = pd.qcut(trade_county.xs('2018-12-1', level=1).alt_tariff, 5 ,labels = False)"
   ]
  },
  {
   "cell_type": "code",
   "execution_count": 354,
   "metadata": {},
   "outputs": [
    {
     "data": {
      "text/plain": [
       "1.5077290482672434"
      ]
     },
     "execution_count": 354,
     "metadata": {},
     "output_type": "execute_result"
    }
   ],
   "source": [
    "most_exposed = exposure[exposure == 3].index.tolist()\n",
    "\n",
    "mid_group = exposure.isin([1,2])\n",
    "\n",
    "med_exposed = exposure[mid_group].index.tolist()\n",
    "\n",
    "least_exposed = exposure[exposure == 0].index.tolist()\n",
    "\n",
    "trade_county.xs('2018-12-1', level=1).tariff_change.mean()\n"
   ]
  },
  {
   "cell_type": "code",
   "execution_count": 355,
   "metadata": {},
   "outputs": [
    {
     "name": "stdout",
     "output_type": "stream",
     "text": [
      "Tariff Change-Most: 3.79\n",
      "Tariff Change-Midl: 1.05\n",
      "Tariff Change-Lest: 0.15\n",
      "Tariff Change-Mean: 1.51\n"
     ]
    }
   ],
   "source": [
    "print(\"Tariff Change-Most:\", round(trade_county.loc[most_exposed].xs('2018-12-1', level=1).tariff_change.mean(),2))\n",
    "print(\"Tariff Change-Midl:\", round(trade_county.loc[med_exposed].xs('2018-12-1', level=1).tariff_change.mean(),2))\n",
    "print(\"Tariff Change-Lest:\",round(trade_county.loc[least_exposed].xs('2018-12-1', level=1).tariff_change.mean(),2))\n",
    "print(\"Tariff Change-Mean:\", round(trade_county.xs('2018-12-1', level=1).tariff_change.mean(),2))"
   ]
  },
  {
   "cell_type": "code",
   "execution_count": 356,
   "metadata": {},
   "outputs": [
    {
     "name": "stdout",
     "output_type": "stream",
     "text": [
      "Chinese Exports 2017, (Most, Middle, Least, Mean)\n",
      "4034.0\n",
      "1289.0\n",
      "347.0\n",
      "1879.0\n"
     ]
    }
   ],
   "source": [
    "print(\"Chinese Exports 2017, (Most, Middle, Least, Mean)\")\n",
    "\n",
    "measure = \"china_exp_pc\"\n",
    "\n",
    "print(round(trade_county.loc[most_exposed].groupby(\"time\").agg({measure :\"mean\"}).loc[\"2017\"].sum()[0],0))\n",
    "\n",
    "print(round(trade_county.loc[med_exposed].groupby(\"time\").agg({measure :\"mean\"}).loc[\"2017\"].sum()[0],0))\n",
    "\n",
    "print(round(trade_county.loc[least_exposed].groupby(\"time\").agg({measure :\"mean\"}).loc[\"2017\"].sum()[0],0))\n",
    "\n",
    "print(round(trade_county.groupby(\"time\").agg({measure:\"mean\"}).loc[\"2017\"].sum()[0],0))"
   ]
  },
  {
   "cell_type": "code",
   "execution_count": 357,
   "metadata": {
    "scrolled": true
   },
   "outputs": [
    {
     "name": "stdout",
     "output_type": "stream",
     "text": [
      "Annual Employment, (Most, Middle, Least, Mean)\n",
      "7370.0\n",
      "45921.0\n",
      "26655.0\n",
      "31525.0\n"
     ]
    }
   ],
   "source": [
    "print(\"Annual Employment, (Most, Middle, Least, Mean)\")\n",
    "\n",
    "print(round(trade_county.loc[most_exposed].groupby(\"time\").agg({emp_measure:\"mean\"}).loc[\"2017\"].mean()[0],0))\n",
    "\n",
    "print(round(trade_county.loc[med_exposed].groupby(\"time\").agg({emp_measure:\"mean\"}).loc[\"2017\"].mean()[0],0))\n",
    "\n",
    "print(round(trade_county.loc[least_exposed].groupby(\"time\").agg({emp_measure:\"mean\"}).loc[\"2017\"].mean()[0],0))\n",
    "\n",
    "print(round(trade_county.groupby(\"time\").agg({emp_measure:\"mean\"}).loc[\"2017\"].mean()[0],0))"
   ]
  },
  {
   "cell_type": "markdown",
   "metadata": {},
   "source": [
    "Now we will plot a comparision between those who are most exposed and those whoe are the least exposed (in terms of changes). This is basically the difference in difference by visualization."
   ]
  },
  {
   "cell_type": "code",
   "execution_count": 358,
   "metadata": {},
   "outputs": [],
   "source": [
    "empl_most = trade_county.loc[most_exposed].groupby(\"time\").agg({\"employment_growth\":\"mean\"})\n",
    "\n",
    "empl_least = trade_county.loc[least_exposed].groupby(\"time\").agg({\"employment_growth\":\"mean\"})"
   ]
  },
  {
   "cell_type": "code",
   "execution_count": 359,
   "metadata": {},
   "outputs": [
    {
     "data": {
      "image/png": "[encoded data removed]",
      "text/plain": [
       "<Figure size 864x576 with 1 Axes>"
      ]
     },
     "metadata": {
      "needs_background": "light"
     },
     "output_type": "display_data"
    }
   ],
   "source": [
    "fig, ax = plt.subplots(figsize = (12,8))\n",
    "\n",
    "mike_blue = tuple(np.array([20, 64, 134]) / 255)\n",
    "\n",
    "ax.plot((empl_most - empl_least), alpha = 0.95, color = mike_blue, linewidth = 4, \n",
    "        label = 'Difference between top and bottom\\nquartile of county level Chinese tariff exposure')\n",
    "\n",
    "#ax.plot(, alpha = 0.95, color = mike_blue , linewidth = 4, \n",
    "#        label = 'Bottom Quantile of Chinese Tariff Exposure Counties')\n",
    "\n",
    "ax.set_ylim(-0.02,0.02)\n",
    "\n",
    "ax.set_xlim(dt.datetime(2018,1,1),dt.datetime(2019,3,1))\n",
    "\n",
    "ax.spines[\"right\"].set_visible(False)\n",
    "\n",
    "ax.spines[\"top\"].set_visible(False)\n",
    "\n",
    "ax.yaxis.grid(alpha= 0.5, linestyle= \"--\")\n",
    "\n",
    "ax.set_ylabel(\"Employment, Year over Year Log Difference,\\nComparison Between High- and Low-Tariff Counties\", fontsize = 14)\n",
    "\n",
    "ax.hlines((empl_most - empl_least).loc[:\"2018-07-01\"].mean().iloc[0],\n",
    "          dt.datetime(2018,1,1),dt.datetime(2018,7,6),\n",
    "           linewidth = 3, color = 'darkred', alpha =0.75, linestyle = \"--\")\n",
    "\n",
    "ax.hlines((empl_most - empl_least).loc[\"2018-08-01\":].mean().iloc[0],\n",
    "          dt.datetime(2018,7,6),dt.datetime(2019,3,1),\n",
    "           linewidth = 3, color = 'darkred', alpha =0.75, linestyle = \"--\", label = \"Avg. Pre- and Post-Tariff Increase\")\n",
    "\n",
    "ax.axvline(dt.datetime(2018,4,4), linewidth = 2, ls = \"--\", color = 'k', alpha =0.15)\n",
    "\n",
    "ax.axvline(dt.datetime(2018,7,6), linewidth = 2, ls = \"--\", color = 'k', alpha =0.15)\n",
    "\n",
    "ax.axvline(dt.datetime(2018,8,23), linewidth = 2, ls = \"--\", color = 'k', alpha =0.25)\n",
    "\n",
    "ax.axvline(dt.datetime(2018,9,24), linewidth = 2, ls = \"--\", color = 'k', alpha =0.15)\n",
    "\n",
    "ax.axvline(dt.datetime(2018,12,1), linewidth = 2, ls = \"--\", color = 'k', alpha =0.15)\n",
    "\n",
    "ax.legend(loc = 0, frameon  = False, fontsize = 14)\n",
    "\n",
    "ax.set_title(\"County-Level, Employment (Goods) Growth by Tariff Exposure\", fontsize = 16, loc= \"left\" )\n",
    "\n",
    "##############################################################################################\n",
    "\n",
    "ax.annotate(\n",
    "    \"4/2018: US announces intention\\nto impose tariffs on China\", \n",
    "    xy=(dt.datetime(2018,4,3), 0.005), # This is where we point at...\n",
    "    xycoords=\"data\", # Not exactly sure about this\n",
    "    xytext=(dt.datetime(2018,9,3), 0.01), # This is about where the text is\n",
    "    horizontalalignment=\"left\", # How the text is alined\n",
    "    arrowprops={\n",
    "        \"arrowstyle\": \"-|>\", # This is stuff about the arrow\n",
    "        \"connectionstyle\": \"angle3,angleA=5,angleB=50\",\n",
    "        \"color\": \"black\",\n",
    "        \"alpha\": 0.55\n",
    "    },\n",
    "    fontsize=11,\n",
    ")\n",
    "\n",
    "##############################################################################################\n",
    "\n",
    "ax.annotate(\n",
    "    \"7/2018: China imposes first phase of\\nretaliatory tariffs\", \n",
    "    xy=(dt.datetime(2018,7,6), -0.01), # This is where we point at...\n",
    "    xycoords=\"data\", # Not exactly sure about this\n",
    "    xytext=(dt.datetime(2018,10,3), 0.0), # This is about where the text is\n",
    "    horizontalalignment=\"left\", # How the text is alined\n",
    "    arrowprops={\n",
    "        \"arrowstyle\": \"-|>\", # This is stuff about the arrow\n",
    "        \"connectionstyle\": \"angle3,angleA=5,angleB=50\",\n",
    "        \"color\": \"black\",\n",
    "        \"alpha\": 0.55\n",
    "    },\n",
    "    fontsize=11,\n",
    ")\n",
    "\n",
    "###################################################################################\n",
    "\n",
    "ax.annotate(\n",
    "    \"8-9/2018: China imposes second and \\nthird phase of retaliatory tariffs\", \n",
    "    xy=(dt.datetime(2018,8,23), -0.02), color='white',# This is where we point at...\n",
    "    xycoords=\"data\", # Not exactly sure about this\n",
    "    xytext=(dt.datetime(2018,11,3), -0.005), # This is about where the text is\n",
    "    horizontalalignment=\"left\", # How the text is alined\n",
    "    arrowprops={\n",
    "        \"arrowstyle\": \"-|>\", # This is stuff about the arrow\n",
    "        \"connectionstyle\": \"angle3,angleA=345,angleB=80\",\n",
    "        \"color\": \"black\",\n",
    "        \"alpha\": 0.55\n",
    "    },\n",
    "    fontsize=11,\n",
    ")\n",
    "\n",
    "###################################################################################\n",
    "\n",
    "ax.annotate(\n",
    "    \"8-9/2018: China imposes second and \\nthird phase of retaliatory tariffs\", \n",
    "    xy=(dt.datetime(2018,9,24), -0.02), # This is where we point at...\n",
    "    xycoords=\"data\", # Not exactly sure about this\n",
    "    xytext=(dt.datetime(2018,11,3), -0.005), # This is about where the text is\n",
    "    horizontalalignment=\"left\", # How the text is alined\n",
    "    arrowprops={\n",
    "        \"arrowstyle\": \"-|>\", # This is stuff about the arrow\n",
    "        \"connectionstyle\": \"angle3,angleA=345,angleB=286\",\n",
    "        \"color\": \"black\",\n",
    "        \"alpha\": 0.55\n",
    "    },\n",
    "    fontsize=11,\n",
    ")\n",
    "\n",
    "##############################################################################################\n",
    "\n",
    "#plt.savefig(fig_path + \"\\\\simple_employment_county_all.pdf\", bbox_inches = \"tight\", dip = 3600)\n",
    "\n",
    "plt.show()"
   ]
  },
  {
   "cell_type": "markdown",
   "metadata": {},
   "source": [
    "Then this will do the tabular representation using stuff before and after the first phase of the tradewar."
   ]
  },
  {
   "cell_type": "code",
   "execution_count": 360,
   "metadata": {},
   "outputs": [
    {
     "name": "stdout",
     "output_type": "stream",
     "text": [
      "0.0062 0.001 4725\n",
      "0.0054 0.001 4572\n"
     ]
    }
   ],
   "source": [
    "idx = pd.IndexSlice\n",
    "\n",
    "me_mean = trade_county.loc[most_exposed].loc[idx[:,\"2018-01-01\":\"2018-06-01\"],:].employment_growth.mean()\n",
    "\n",
    "me_nobs = trade_county.loc[most_exposed].loc[idx[:,\"2018-01-01\":\"2018-06-01\"],:].employment_growth.notnull().sum()\n",
    "\n",
    "me_se = trade_county.loc[most_exposed].loc[idx[:,\"2018-01-01\":\"2018-06-01\"],:].employment_growth.std()/me_nobs**0.5\n",
    "\n",
    "\n",
    "le_mean = trade_county.loc[least_exposed].loc[idx[:,\"2018-01-01\":\"2018-06-01\"],:].employment_growth.mean()\n",
    "\n",
    "le_nobs = trade_county.loc[least_exposed].loc[idx[:,\"2018-01-01\":\"2018-06-01\"],:].employment_growth.notnull().sum()\n",
    "\n",
    "le_se = trade_county.loc[least_exposed].loc[idx[:,\"2018-01-01\":\"2018-06-01\"],:].employment_growth.std()/me_nobs**0.5\n",
    "\n",
    "print(round(me_mean,4), round(me_se,3), me_nobs)\n",
    "print(round(le_mean,4), round(le_se,3), le_nobs)"
   ]
  },
  {
   "cell_type": "code",
   "execution_count": 361,
   "metadata": {},
   "outputs": [
    {
     "name": "stdout",
     "output_type": "stream",
     "text": [
      "0.0053 0.001 7077\n",
      "0.005 0.001 6855\n"
     ]
    }
   ],
   "source": [
    "idx = pd.IndexSlice\n",
    "\n",
    "me_mean = trade_county.loc[most_exposed].loc[idx[:,\"2018-07-01\":],:].employment_growth.mean()\n",
    "\n",
    "me_nobs = trade_county.loc[most_exposed].loc[idx[:,\"2018-07-01\":],:].employment_growth.notnull().sum()\n",
    "\n",
    "me_se = trade_county.loc[most_exposed].loc[idx[:,\"2018-07-01\":],:].employment_growth.std()/me_nobs**0.5\n",
    "\n",
    "\n",
    "le_mean = trade_county.loc[least_exposed].loc[idx[:,\"2018-07-01\":],:].employment_growth.mean()\n",
    "\n",
    "le_nobs = trade_county.loc[least_exposed].loc[idx[:,\"2018-07-01\":],:].employment_growth.notnull().sum()\n",
    "\n",
    "le_se = trade_county.loc[least_exposed].loc[idx[:,\"2018-07-01\":],:].employment_growth.std()/me_nobs**0.5\n",
    "\n",
    "print(round(me_mean,4), round(me_se,3), me_nobs)\n",
    "print(round(le_mean,4), round(le_se,3), le_nobs)"
   ]
  },
  {
   "cell_type": "markdown",
   "metadata": {},
   "source": [
    "Not discussed in the paper, but what this looks like is that both looked relativly the same before the start of it interms of employment growth. But after the first phase, the least exposed did really well (this is consistent with a rocking US economy) but those most exposed did relativly poorly. But growth here is still positive. "
   ]
  },
  {
   "cell_type": "markdown",
   "metadata": {},
   "source": [
    "### Regression Analysis\n",
    "\n",
    "This will walk through the results using employment data. The first set are the main (weighted results). The next set are the unweighted results. Numbers may not exactly match up to what is in the paper as some rounding is occuring. "
   ]
  },
  {
   "cell_type": "code",
   "execution_count": 362,
   "metadata": {},
   "outputs": [
    {
     "data": {
      "text/plain": [
       "Index(['total_exp_pc', 'china_exp_pc', 'tariff', 'emplvl_2017', 'fips',\n",
       "       'total_employment', 'emp_all', 'emp_gds', 'emp_n_gds', 'rural_share',\n",
       "       '2010_population', '2017_income', '2017_population', 'log_tariff',\n",
       "       'log_exp_total', 'log_exp_china', 'log_employment', 'log_employment_nt',\n",
       "       'const', 'state_fips', 'tariff_change', 'log_tariff_change',\n",
       "       'employment_growth', 'nt_employment_growth'],\n",
       "      dtype='object')"
      ]
     },
     "execution_count": 362,
     "metadata": {},
     "output_type": "execute_result"
    }
   ],
   "source": [
    "trade_county.columns"
   ]
  },
  {
   "cell_type": "markdown",
   "metadata": {},
   "source": [
    "### Weighted Results\n",
    "\n",
    "#### Change on Change, no time or fixed effects"
   ]
  },
  {
   "cell_type": "code",
   "execution_count": 363,
   "metadata": {
    "scrolled": false
   },
   "outputs": [
    {
     "name": "stdout",
     "output_type": "stream",
     "text": [
      "15\n",
      "3252\n",
      "                          PanelOLS Estimation Summary                           \n",
      "================================================================================\n",
      "Dep. Variable:      employment_growth   R-squared:                        0.0046\n",
      "Estimator:                   PanelOLS   R-squared (Between):              0.0061\n",
      "No. Observations:               47187   R-squared (Within):               0.0005\n",
      "Date:                Fri, Nov 08 2019   R-squared (Overall):              0.0046\n",
      "Time:                        07:01:59   Log-likelihood                 1.159e+05\n",
      "Cov. Estimator:             Clustered                                           \n",
      "                                        F-statistic:                   2.742e+04\n",
      "Entities:                        3164   P-value                           0.0000\n",
      "Avg Obs:                       14.914   Distribution:                 F(1,47185)\n",
      "Min Obs:                       3.0000                                           \n",
      "Max Obs:                       15.000   F-statistic (robust):             17.589\n",
      "                                        P-value                           0.0000\n",
      "Time periods:                      15   Distribution:                 F(1,47185)\n",
      "Avg Obs:                       3145.8                                           \n",
      "Min Obs:                       3136.0                                           \n",
      "Max Obs:                       3153.0                                           \n",
      "                                                                                \n",
      "                                 Parameter Estimates                                 \n",
      "=====================================================================================\n",
      "                   Parameter  Std. Err.     T-stat    P-value    Lower CI    Upper CI\n",
      "-------------------------------------------------------------------------------------\n",
      "const                 0.0160     0.0008     20.163     0.0000      0.0144      0.0175\n",
      "log_tariff_change    -0.2301     0.0549    -4.1939     0.0000     -0.3376     -0.1226\n",
      "=====================================================================================\n",
      "\n",
      "\n"
     ]
    }
   ],
   "source": [
    "all_vars = [\"const\", \"log_tariff_change\", 'employment_growth',\"2017_population\",'total_employment']\n",
    "\n",
    "dataset = trade_county[all_vars].loc[idx[:,\"2018-01-01\":\"2019-03-01\"],:]\n",
    "\n",
    "exog_vars = [\"const\",\"log_tariff_change\"]\n",
    "\n",
    "weights = dataset[\"total_employment\"].to_frame()\n",
    "# I fought with this alot. the weights shape needs to exaclty match up\n",
    "# with the dataframe for which the estimation is done. So what I do is\n",
    "# slice as above, then let PanelOLS drop things when there are missing \n",
    "# observations\n",
    "\n",
    "weights.replace(to_replace = 0, value = 0.001,inplace = True)\n",
    "# Some countys because of there size and how the QCEW deals with stuff, there are is zero.\n",
    "# PanelOLS does not like 0 weight, so this the the work around. It does not matter. \n",
    "\n",
    "mod = PanelOLS(dataset.employment_growth, dataset[exog_vars], weights = weights)\n",
    "\n",
    "fe_res = mod.fit(cov_type='clustered', cluster_entity=True)\n",
    "\n",
    "print(fe_res)"
   ]
  },
  {
   "cell_type": "markdown",
   "metadata": {},
   "source": [
    "#### Change on Change, now with just the time effect."
   ]
  },
  {
   "cell_type": "code",
   "execution_count": 364,
   "metadata": {},
   "outputs": [
    {
     "name": "stdout",
     "output_type": "stream",
     "text": [
      "15\n",
      "3252\n",
      "                          PanelOLS Estimation Summary                           \n",
      "================================================================================\n",
      "Dep. Variable:      employment_growth   R-squared:                        0.0046\n",
      "Estimator:                   PanelOLS   R-squared (Between):              0.0068\n",
      "No. Observations:               47187   R-squared (Within):              -0.0022\n",
      "Date:                Fri, Nov 08 2019   R-squared (Overall):              0.0044\n",
      "Time:                        07:02:00   Log-likelihood                 1.159e+05\n",
      "Cov. Estimator:             Clustered                                           \n",
      "                                        F-statistic:                   2.746e+04\n",
      "Entities:                        3164   P-value                           0.0000\n",
      "Avg Obs:                       14.914   Distribution:                 F(1,47171)\n",
      "Min Obs:                       3.0000                                           \n",
      "Max Obs:                       15.000   F-statistic (robust):             12.848\n",
      "                                        P-value                           0.0003\n",
      "Time periods:                      15   Distribution:                 F(1,47171)\n",
      "Avg Obs:                       3145.8                                           \n",
      "Min Obs:                       3136.0                                           \n",
      "Max Obs:                       3153.0                                           \n",
      "                                                                                \n",
      "                                 Parameter Estimates                                 \n",
      "=====================================================================================\n",
      "                   Parameter  Std. Err.     T-stat    P-value    Lower CI    Upper CI\n",
      "-------------------------------------------------------------------------------------\n",
      "const                 0.0162     0.0008     19.132     0.0000      0.0145      0.0178\n",
      "log_tariff_change    -0.2799     0.0781    -3.5844     0.0003     -0.4329     -0.1268\n",
      "=====================================================================================\n",
      "\n",
      "F-test for Poolability: 6.5468\n",
      "P-value: 0.0000\n",
      "Distribution: F(14,47171)\n",
      "\n",
      "Included effects: Time\n"
     ]
    }
   ],
   "source": [
    "all_vars = [\"const\", \"log_tariff_change\", 'employment_growth',\"2017_population\",'total_employment']\n",
    "\n",
    "dataset = trade_county[all_vars].loc[idx[:,\"2018-01-01\":\"2019-03-01\"],:]\n",
    "\n",
    "exog_vars = [\"const\",\"log_tariff_change\"]\n",
    "\n",
    "weights = dataset['total_employment'].to_frame()\n",
    "# I fought with this alot. the weights shape needs to exaclty match up\n",
    "# with the dataframe for which the estimation is done. So what I do is\n",
    "# slice as above, then let PanelOLS drop things when there are missing \n",
    "# observations\n",
    "\n",
    "weights.replace(to_replace = 0, value = 0.001,inplace = True)\n",
    "# Some countys because of there size and how the QCEW deals with stuff, there are is zero.\n",
    "# PanelOLS does not like 0 weight, so this the the work around. It does not matter. \n",
    "\n",
    "mod = PanelOLS(dataset.employment_growth, dataset[exog_vars], weights = weights, time_effects = True)\n",
    "\n",
    "fe_res = mod.fit(cov_type='clustered', cluster_entity=True)\n",
    "\n",
    "print(fe_res)"
   ]
  },
  {
   "cell_type": "markdown",
   "metadata": {},
   "source": [
    "#### Change on Change, time effects and county-level fixed effects"
   ]
  },
  {
   "cell_type": "code",
   "execution_count": 365,
   "metadata": {},
   "outputs": [
    {
     "name": "stdout",
     "output_type": "stream",
     "text": [
      "15\n",
      "3252\n",
      "                          PanelOLS Estimation Summary                           \n",
      "================================================================================\n",
      "Dep. Variable:      employment_growth   R-squared:                        0.0010\n",
      "Estimator:                   PanelOLS   R-squared (Between):              0.0034\n",
      "No. Observations:               47187   R-squared (Within):               0.0028\n",
      "Date:                Fri, Nov 08 2019   R-squared (Overall):              0.0033\n",
      "Time:                        07:02:01   Log-likelihood                 1.468e+05\n",
      "Cov. Estimator:             Clustered                                           \n",
      "                                        F-statistic:                   6.615e+04\n",
      "Entities:                        3164   P-value                           0.0000\n",
      "Avg Obs:                       14.914   Distribution:                 F(1,44008)\n",
      "Min Obs:                       3.0000                                           \n",
      "Max Obs:                       15.000   F-statistic (robust):             4.7655\n",
      "                                        P-value                           0.0290\n",
      "Time periods:                      15   Distribution:                 F(1,44008)\n",
      "Avg Obs:                       3145.8                                           \n",
      "Min Obs:                       3136.0                                           \n",
      "Max Obs:                       3153.0                                           \n",
      "                                                                                \n",
      "                                 Parameter Estimates                                 \n",
      "=====================================================================================\n",
      "                   Parameter  Std. Err.     T-stat    P-value    Lower CI    Upper CI\n",
      "-------------------------------------------------------------------------------------\n",
      "const                 0.0155     0.0002     79.551     0.0000      0.0151      0.0159\n",
      "log_tariff_change    -0.1063     0.0487    -2.1830     0.0290     -0.2018     -0.0109\n",
      "=====================================================================================\n",
      "\n",
      "F-test for Poolability: 37.583\n",
      "P-value: 0.0000\n",
      "Distribution: F(3177,44008)\n",
      "\n",
      "Included effects: Entity, Time\n"
     ]
    }
   ],
   "source": [
    "all_vars = [\"const\", \"log_tariff_change\", 'employment_growth',\"2017_population\",'total_employment']\n",
    "\n",
    "dataset = trade_county[all_vars].loc[idx[:,\"2018-01-01\":\"2019-03-01\"],:]\n",
    "\n",
    "exog_vars = [\"const\",\"log_tariff_change\"]\n",
    "\n",
    "weights = dataset['total_employment'].to_frame()\n",
    "# I fought with this alot. the weights shape needs to exaclty match up\n",
    "# with the dataframe for which the estimation is done. So what I do is\n",
    "# slice as above, then let PanelOLS drop things when there are missing \n",
    "# observations\n",
    "\n",
    "weights.replace(to_replace = 0, value = 0.001,inplace = True)\n",
    "# Some countys because of there size and how the QCEW deals with stuff, there are is zero.\n",
    "# PanelOLS does not like 0 weight, so this the the work around. It does not matter. \n",
    "\n",
    "mod = PanelOLS(dataset.employment_growth, dataset[exog_vars], weights = weights, entity_effects=True, \n",
    "               time_effects = True)\n",
    "\n",
    "fe_res = mod.fit(cov_type='clustered', cluster_entity=True)\n",
    "\n",
    "print(fe_res)"
   ]
  },
  {
   "cell_type": "markdown",
   "metadata": {},
   "source": [
    "### Unweigted resuts\n",
    "\n",
    "#### Change on Change, no fixed effects or time effects"
   ]
  },
  {
   "cell_type": "code",
   "execution_count": 366,
   "metadata": {},
   "outputs": [
    {
     "name": "stdout",
     "output_type": "stream",
     "text": [
      "                          PanelOLS Estimation Summary                           \n",
      "================================================================================\n",
      "Dep. Variable:      employment_growth   R-squared:                     3.851e-05\n",
      "Estimator:                   PanelOLS   R-squared (Between):              0.0002\n",
      "No. Observations:               47187   R-squared (Within):              -0.0003\n",
      "Date:                Fri, Nov 08 2019   R-squared (Overall):           3.851e-05\n",
      "Time:                        07:02:01   Log-likelihood                  6.44e+04\n",
      "Cov. Estimator:             Clustered                                           \n",
      "                                        F-statistic:                      1.8173\n",
      "Entities:                        3164   P-value                           0.1776\n",
      "Avg Obs:                       14.914   Distribution:                 F(1,47185)\n",
      "Min Obs:                       3.0000                                           \n",
      "Max Obs:                       15.000   F-statistic (robust):             0.1077\n",
      "                                        P-value                           0.7428\n",
      "Time periods:                      15   Distribution:                 F(1,47185)\n",
      "Avg Obs:                       3145.8                                           \n",
      "Min Obs:                       3136.0                                           \n",
      "Max Obs:                       3153.0                                           \n",
      "                                                                                \n",
      "                                 Parameter Estimates                                 \n",
      "=====================================================================================\n",
      "                   Parameter  Std. Err.     T-stat    P-value    Lower CI    Upper CI\n",
      "-------------------------------------------------------------------------------------\n",
      "const                 0.0065     0.0010     6.7387     0.0000      0.0046      0.0084\n",
      "log_tariff_change     0.0269     0.0820     0.3282     0.7428     -0.1338      0.1876\n",
      "=====================================================================================\n",
      "\n",
      "\n"
     ]
    }
   ],
   "source": [
    "all_vars = [\"const\", \"log_tariff_change\", 'employment_growth']\n",
    "\n",
    "dataset = trade_county[all_vars].loc[idx[:,\"2018-01-01\":\"2019-03-01\"],:]\n",
    "\n",
    "exog_vars = [\"const\",\"log_tariff_change\"]\n",
    "\n",
    "mod = PanelOLS(dataset.employment_growth, dataset[exog_vars])\n",
    "\n",
    "fe_res = mod.fit(cov_type='clustered', cluster_entity=True)\n",
    "\n",
    "print(fe_res)\n",
    "\n",
    "#df = pd.concat([dataset.employment_growth, fe_res.fitted_values],1).dropna()\n",
    "#print(df.corr().iloc[0,1] ** 2)"
   ]
  },
  {
   "cell_type": "markdown",
   "metadata": {},
   "source": [
    "#### Change on Change, time effects"
   ]
  },
  {
   "cell_type": "code",
   "execution_count": 367,
   "metadata": {},
   "outputs": [
    {
     "name": "stdout",
     "output_type": "stream",
     "text": [
      "                          PanelOLS Estimation Summary                           \n",
      "================================================================================\n",
      "Dep. Variable:      employment_growth   R-squared:                     6.885e-05\n",
      "Estimator:                   PanelOLS   R-squared (Between):              0.0003\n",
      "No. Observations:               47187   R-squared (Within):              -0.0004\n",
      "Date:                Fri, Nov 08 2019   R-squared (Overall):           2.937e-05\n",
      "Time:                        07:02:02   Log-likelihood                 6.441e+04\n",
      "Cov. Estimator:             Clustered                                           \n",
      "                                        F-statistic:                      3.2482\n",
      "Entities:                        3164   P-value                           0.0715\n",
      "Avg Obs:                       14.914   Distribution:                 F(1,47171)\n",
      "Min Obs:                       3.0000                                           \n",
      "Max Obs:                       15.000   F-statistic (robust):             0.1578\n",
      "                                        P-value                           0.6912\n",
      "Time periods:                      15   Distribution:                 F(1,47171)\n",
      "Avg Obs:                       3145.8                                           \n",
      "Min Obs:                       3136.0                                           \n",
      "Max Obs:                       3153.0                                           \n",
      "                                                                                \n",
      "                                 Parameter Estimates                                 \n",
      "=====================================================================================\n",
      "                   Parameter  Std. Err.     T-stat    P-value    Lower CI    Upper CI\n",
      "-------------------------------------------------------------------------------------\n",
      "const                 0.0064     0.0010     6.3376     0.0000      0.0044      0.0084\n",
      "log_tariff_change     0.0400     0.1007     0.3973     0.6912     -0.1574      0.2374\n",
      "=====================================================================================\n",
      "\n",
      "F-test for Poolability: 1.1909\n",
      "P-value: 0.2741\n",
      "Distribution: F(14,47171)\n",
      "\n",
      "Included effects: Time\n"
     ]
    }
   ],
   "source": [
    "all_vars = [\"const\", \"log_tariff_change\", 'employment_growth']\n",
    "\n",
    "dataset = trade_county[all_vars].loc[idx[:,\"2018-01-01\":\"2019-03-01\"],:]\n",
    "\n",
    "exog_vars = [\"const\",\"log_tariff_change\"]\n",
    "\n",
    "mod = PanelOLS(dataset.employment_growth, dataset[exog_vars], time_effects = True)\n",
    "\n",
    "fe_res = mod.fit(cov_type='clustered', cluster_entity=True)\n",
    "\n",
    "print(fe_res)"
   ]
  },
  {
   "cell_type": "markdown",
   "metadata": {},
   "source": [
    "#### Change on Change, time and county-level fixed effects"
   ]
  },
  {
   "cell_type": "code",
   "execution_count": 368,
   "metadata": {},
   "outputs": [
    {
     "name": "stdout",
     "output_type": "stream",
     "text": [
      "                          PanelOLS Estimation Summary                           \n",
      "================================================================================\n",
      "Dep. Variable:      employment_growth   R-squared:                        0.0002\n",
      "Estimator:                   PanelOLS   R-squared (Between):             -0.0007\n",
      "No. Observations:               47187   R-squared (Within):               0.0002\n",
      "Date:                Fri, Nov 08 2019   R-squared (Overall):             -0.0004\n",
      "Time:                        07:02:03   Log-likelihood                 8.812e+04\n",
      "Cov. Estimator:             Clustered                                           \n",
      "                                        F-statistic:                      10.095\n",
      "Entities:                        3164   P-value                           0.0015\n",
      "Avg Obs:                       14.914   Distribution:                 F(1,44008)\n",
      "Min Obs:                       3.0000                                           \n",
      "Max Obs:                       15.000   F-statistic (robust):             0.4090\n",
      "                                        P-value                           0.5225\n",
      "Time periods:                      15   Distribution:                 F(1,44008)\n",
      "Avg Obs:                       3145.8                                           \n",
      "Min Obs:                       3136.0                                           \n",
      "Max Obs:                       3153.0                                           \n",
      "                                                                                \n",
      "                                 Parameter Estimates                                 \n",
      "=====================================================================================\n",
      "                   Parameter  Std. Err.     T-stat    P-value    Lower CI    Upper CI\n",
      "-------------------------------------------------------------------------------------\n",
      "const                 0.0072     0.0008     9.2423     0.0000      0.0057      0.0088\n",
      "log_tariff_change    -0.0679     0.1062    -0.6396     0.5225     -0.2762      0.1403\n",
      "=====================================================================================\n",
      "\n",
      "F-test for Poolability: 24.002\n",
      "P-value: 0.0000\n",
      "Distribution: F(3177,44008)\n",
      "\n",
      "Included effects: Entity, Time\n"
     ]
    }
   ],
   "source": [
    "all_vars = [\"const\", \"log_tariff_change\", 'employment_growth']\n",
    "\n",
    "dataset = trade_county[all_vars].loc[idx[:,\"2018-01-01\":\"2019-03-01\"],:]\n",
    "\n",
    "exog_vars = [\"const\",\"log_tariff_change\"]\n",
    "\n",
    "mod = PanelOLS(dataset.employment_growth, dataset[exog_vars], entity_effects=True, time_effects = True)\n",
    "\n",
    "fe_res = mod.fit(cov_type='clustered', cluster_entity=True)\n",
    "\n",
    "print(fe_res)"
   ]
  },
  {
   "cell_type": "markdown",
   "metadata": {},
   "source": [
    "This is the most interesting one. Here things go to zero and there is no effect. What I think the weighting is really doing is variance reduction rather than some issue about means. So there are a bunch of small county's with employment patterns all over the place. By weighting on county size, this reduces the impact those guys have and, hence, you get the different result. "
   ]
  },
  {
   "cell_type": "code",
   "execution_count": 369,
   "metadata": {},
   "outputs": [
    {
     "data": {
      "text/plain": [
       "3.77"
      ]
     },
     "execution_count": 369,
     "metadata": {},
     "output_type": "execute_result"
    }
   ],
   "source": [
    "1*(3.92-0.15)"
   ]
  },
  {
   "cell_type": "code",
   "execution_count": null,
   "metadata": {},
   "outputs": [],
   "source": []
  }
 ],
 "metadata": {
  "kernelspec": {
   "display_name": "Python 3",
   "language": "python",
   "name": "python3"
  },
  "language_info": {
   "codemirror_mode": {
    "name": "ipython",
    "version": 3
   },
   "file_extension": ".py",
   "mimetype": "text/x-python",
   "name": "python",
   "nbconvert_exporter": "python",
   "pygments_lexer": "ipython3",
   "version": "3.7.3"
  }
 },
 "nbformat": 4,
 "nbformat_minor": 2
}
