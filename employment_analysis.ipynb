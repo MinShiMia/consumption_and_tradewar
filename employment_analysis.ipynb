{
 "cells": [
  {
   "cell_type": "code",
   "execution_count": 239,
   "metadata": {},
   "outputs": [],
   "source": [
    "import pandas as pd             # data package\n",
    "import matplotlib.pyplot as plt # graphics \n",
    "import datetime as dt\n",
    "import numpy as np\n",
    "\n",
    "import requests, io             # internet and input tools  \n",
    "import zipfile as zf            # zip file tools \n",
    "import os  \n",
    "\n",
    "from numpy.polynomial.polynomial import polyfit\n",
    "\n",
    "import pyarrow as pa\n",
    "import pyarrow.parquet as pq\n",
    "\n",
    "import statsmodels.api as sm\n",
    "import statsmodels\n",
    "#import statsmodels.formula.api as smf\n",
    "from linearmodels.iv import IV2SLS\n",
    "from linearmodels.panel import PanelOLS\n",
    "\n",
    "\n",
    "\n",
    "import warnings\n",
    "warnings.filterwarnings(\"ignore\")"
   ]
  },
  {
   "cell_type": "markdown",
   "metadata": {},
   "source": [
    "### Preface\n",
    "\n",
    "This notebook just explores the employment analysis part of the paper [\"The Consumption Response to Trade Shocks: Evidence from the US-China Trade War.\"](http://www.waugheconomics.com/uploads/2/2/5/6/22563786/waugh_consumption.pdf) . This is in Section 5. It mimics many parts of the auto analysis (visualization, tabular representations, and regression analysis). Below I also report the unweighted an weighted regression results.\n",
    "\n",
    "### Steup for analysis\n",
    "\n",
    "Just some basic things, bring in the data, make the transformations that we want, etc..."
   ]
  },
  {
   "cell_type": "code",
   "execution_count": 240,
   "metadata": {},
   "outputs": [],
   "source": [
    "fig_path = \"C:\\\\github\\\\expenditure_tradeshocks\\\\figures\""
   ]
  },
  {
   "cell_type": "markdown",
   "metadata": {},
   "source": [
    "This is the cell below to change if you want to toggle between all employment and only goods producing employment."
   ]
  },
  {
   "cell_type": "code",
   "execution_count": 241,
   "metadata": {},
   "outputs": [],
   "source": [
    "file_path = os.getcwd()\n",
    "\n",
    "#trade_county = pq.read_table(file_path + \"\\\\data\\\\trade_employment_goods.parquet\").to_pandas()\n",
    "\n",
    "trade_county = pq.read_table(file_path + \"\\\\data\\\\trade_employment_2015.parquet\").to_pandas()"
   ]
  },
  {
   "cell_type": "code",
   "execution_count": 242,
   "metadata": {},
   "outputs": [],
   "source": [
    "trade_county[\"time\"] = pd.to_datetime(trade_county.time)\n",
    "\n",
    "trade_county.set_index([\"area_fips\", \"time\"],inplace = True)"
   ]
  },
  {
   "cell_type": "code",
   "execution_count": 244,
   "metadata": {},
   "outputs": [],
   "source": [
    "trade_county[\"log_tariff\"] = np.log(1+.01*trade_county[\"tariff\"])\n",
    "\n",
    "trade_county[\"log_exp_total\"] = np.log(trade_county[\"total_exp_pc\"]).replace(-np.inf, np.nan)\n",
    "\n",
    "trade_county[\"log_exp_china\"] = np.log(trade_county[\"china_exp_pc\"]).replace(-np.inf, np.nan)\n",
    "\n",
    "emp_measure = \"emp_all\"\n",
    "# Here you specify the type of employment you want. emp_all is total employment. emp_gds = goods employment. \n",
    "\n",
    "trade_county[\"log_employment\"] = np.log(trade_county[emp_measure]).replace(-np.inf, np.nan)\n",
    "# Now given how the file is setup, we can select which type of employment.\n",
    "# all private, goods, or manufacturing.\n",
    "\n",
    "trade_county[\"const\"] = 1"
   ]
  },
  {
   "cell_type": "code",
   "execution_count": 245,
   "metadata": {},
   "outputs": [],
   "source": [
    "trade_county.reset_index(inplace = True)\n",
    "\n",
    "trade_county.rename({\"area_fips\": \"GEOFIPS\"},axis = 1, inplace = True)\n",
    "\n",
    "trade_county[\"state_fips\"] = trade_county[\"GEOFIPS\"].astype(str).str[0:2]\n",
    "\n",
    "trade_county[\"GEOFIPS\"] = trade_county[\"GEOFIPS\"].astype(int)"
   ]
  },
  {
   "cell_type": "code",
   "execution_count": 246,
   "metadata": {},
   "outputs": [],
   "source": [
    "trade_county.set_index([\"GEOFIPS\", \"time\"], inplace = True)"
   ]
  },
  {
   "cell_type": "code",
   "execution_count": 247,
   "metadata": {},
   "outputs": [
    {
     "data": {
      "text/html": [
       "<div>\n",
       "<style scoped>\n",
       "    .dataframe tbody tr th:only-of-type {\n",
       "        vertical-align: middle;\n",
       "    }\n",
       "\n",
       "    .dataframe tbody tr th {\n",
       "        vertical-align: top;\n",
       "    }\n",
       "\n",
       "    .dataframe thead th {\n",
       "        text-align: right;\n",
       "    }\n",
       "</style>\n",
       "<table border=\"1\" class=\"dataframe\">\n",
       "  <thead>\n",
       "    <tr style=\"text-align: right;\">\n",
       "      <th></th>\n",
       "      <th></th>\n",
       "      <th>total_exp_pc</th>\n",
       "      <th>china_exp_pc</th>\n",
       "      <th>tariff</th>\n",
       "      <th>emplvl_2017</th>\n",
       "      <th>fips</th>\n",
       "      <th>total_employment</th>\n",
       "      <th>emp_all</th>\n",
       "      <th>emp_gds</th>\n",
       "      <th>log_tariff</th>\n",
       "      <th>log_exp_total</th>\n",
       "      <th>log_exp_china</th>\n",
       "      <th>log_employment</th>\n",
       "      <th>const</th>\n",
       "      <th>state_fips</th>\n",
       "    </tr>\n",
       "    <tr>\n",
       "      <th>GEOFIPS</th>\n",
       "      <th>time</th>\n",
       "      <th></th>\n",
       "      <th></th>\n",
       "      <th></th>\n",
       "      <th></th>\n",
       "      <th></th>\n",
       "      <th></th>\n",
       "      <th></th>\n",
       "      <th></th>\n",
       "      <th></th>\n",
       "      <th></th>\n",
       "      <th></th>\n",
       "      <th></th>\n",
       "      <th></th>\n",
       "      <th></th>\n",
       "    </tr>\n",
       "  </thead>\n",
       "  <tbody>\n",
       "    <tr>\n",
       "      <td rowspan=\"5\" valign=\"top\">10001</td>\n",
       "      <td>2015-01-01</td>\n",
       "      <td>NaN</td>\n",
       "      <td>NaN</td>\n",
       "      <td>1.068759</td>\n",
       "      <td>NaN</td>\n",
       "      <td>None</td>\n",
       "      <td>29514.0</td>\n",
       "      <td>0.0</td>\n",
       "      <td>0.0</td>\n",
       "      <td>0.010631</td>\n",
       "      <td>NaN</td>\n",
       "      <td>NaN</td>\n",
       "      <td>NaN</td>\n",
       "      <td>1</td>\n",
       "      <td>10</td>\n",
       "    </tr>\n",
       "    <tr>\n",
       "      <td>2015-02-01</td>\n",
       "      <td>NaN</td>\n",
       "      <td>NaN</td>\n",
       "      <td>1.068759</td>\n",
       "      <td>NaN</td>\n",
       "      <td>None</td>\n",
       "      <td>29514.0</td>\n",
       "      <td>0.0</td>\n",
       "      <td>0.0</td>\n",
       "      <td>0.010631</td>\n",
       "      <td>NaN</td>\n",
       "      <td>NaN</td>\n",
       "      <td>NaN</td>\n",
       "      <td>1</td>\n",
       "      <td>10</td>\n",
       "    </tr>\n",
       "    <tr>\n",
       "      <td>2015-03-01</td>\n",
       "      <td>NaN</td>\n",
       "      <td>NaN</td>\n",
       "      <td>1.068759</td>\n",
       "      <td>NaN</td>\n",
       "      <td>None</td>\n",
       "      <td>29514.0</td>\n",
       "      <td>0.0</td>\n",
       "      <td>0.0</td>\n",
       "      <td>0.010631</td>\n",
       "      <td>NaN</td>\n",
       "      <td>NaN</td>\n",
       "      <td>NaN</td>\n",
       "      <td>1</td>\n",
       "      <td>10</td>\n",
       "    </tr>\n",
       "    <tr>\n",
       "      <td>2015-04-01</td>\n",
       "      <td>NaN</td>\n",
       "      <td>NaN</td>\n",
       "      <td>1.068759</td>\n",
       "      <td>NaN</td>\n",
       "      <td>None</td>\n",
       "      <td>29514.0</td>\n",
       "      <td>0.0</td>\n",
       "      <td>0.0</td>\n",
       "      <td>0.010631</td>\n",
       "      <td>NaN</td>\n",
       "      <td>NaN</td>\n",
       "      <td>NaN</td>\n",
       "      <td>1</td>\n",
       "      <td>10</td>\n",
       "    </tr>\n",
       "    <tr>\n",
       "      <td>2015-05-01</td>\n",
       "      <td>NaN</td>\n",
       "      <td>NaN</td>\n",
       "      <td>1.068759</td>\n",
       "      <td>NaN</td>\n",
       "      <td>None</td>\n",
       "      <td>29514.0</td>\n",
       "      <td>0.0</td>\n",
       "      <td>0.0</td>\n",
       "      <td>0.010631</td>\n",
       "      <td>NaN</td>\n",
       "      <td>NaN</td>\n",
       "      <td>NaN</td>\n",
       "      <td>1</td>\n",
       "      <td>10</td>\n",
       "    </tr>\n",
       "  </tbody>\n",
       "</table>\n",
       "</div>"
      ],
      "text/plain": [
       "                    total_exp_pc  china_exp_pc    tariff  emplvl_2017  fips  \\\n",
       "GEOFIPS time                                                                  \n",
       "10001   2015-01-01           NaN           NaN  1.068759          NaN  None   \n",
       "        2015-02-01           NaN           NaN  1.068759          NaN  None   \n",
       "        2015-03-01           NaN           NaN  1.068759          NaN  None   \n",
       "        2015-04-01           NaN           NaN  1.068759          NaN  None   \n",
       "        2015-05-01           NaN           NaN  1.068759          NaN  None   \n",
       "\n",
       "                    total_employment  emp_all  emp_gds  log_tariff  \\\n",
       "GEOFIPS time                                                         \n",
       "10001   2015-01-01           29514.0      0.0      0.0    0.010631   \n",
       "        2015-02-01           29514.0      0.0      0.0    0.010631   \n",
       "        2015-03-01           29514.0      0.0      0.0    0.010631   \n",
       "        2015-04-01           29514.0      0.0      0.0    0.010631   \n",
       "        2015-05-01           29514.0      0.0      0.0    0.010631   \n",
       "\n",
       "                    log_exp_total  log_exp_china  log_employment  const  \\\n",
       "GEOFIPS time                                                              \n",
       "10001   2015-01-01            NaN            NaN             NaN      1   \n",
       "        2015-02-01            NaN            NaN             NaN      1   \n",
       "        2015-03-01            NaN            NaN             NaN      1   \n",
       "        2015-04-01            NaN            NaN             NaN      1   \n",
       "        2015-05-01            NaN            NaN             NaN      1   \n",
       "\n",
       "                   state_fips  \n",
       "GEOFIPS time                   \n",
       "10001   2015-01-01         10  \n",
       "        2015-02-01         10  \n",
       "        2015-03-01         10  \n",
       "        2015-04-01         10  \n",
       "        2015-05-01         10  "
      ]
     },
     "execution_count": 247,
     "metadata": {},
     "output_type": "execute_result"
    }
   ],
   "source": [
    "trade_county.head()"
   ]
  },
  {
   "cell_type": "markdown",
   "metadata": {},
   "source": [
    "### Simple Cuts of Employment Data by Tariff Exposure\n",
    "\n",
    "Here is the strategy. First, compute the quantiles of tariff exposure for each county. Then compute year over year sales growth for each county. Note that since this is in growth rates, this takes out any county level \"fixed effect\" and removes any seasonal component. \n",
    "\n",
    "Then we will simply plot year over year employment growth, for the (mean or median) county in a particular part of the distribution of tariff exposure.\n",
    "\n",
    "This stuff is not reported in the paper, but is here to mimic the results for the autos.\n",
    "\n",
    "Note the stuff below will also replicate the summary statistics in the paper."
   ]
  },
  {
   "cell_type": "code",
   "execution_count": 248,
   "metadata": {},
   "outputs": [],
   "source": [
    "# First take growth rates\n",
    "\n",
    "# note , I'm a bit confused about why the sorting,\n",
    "# here is that because of some missing values, the resulting dateframe from the \n",
    "# first operation may be out of place, so we need to resort things to make sure that\n",
    "# the time difference is correct.\n",
    "trade_county.sort_values([\"GEOFIPS\", \"time\"], inplace = True)\n",
    "\n",
    "trade_county[\"tariff_change\"] = trade_county.groupby([\"GEOFIPS\"]).tariff.diff(12)\n",
    "\n",
    "trade_county.sort_values([\"GEOFIPS\", \"time\"], inplace = True)\n",
    "\n",
    "trade_county[\"log_tariff_change\"] = trade_county.groupby([\"GEOFIPS\"]).log_tariff.diff(12)\n",
    "\n",
    "trade_county.sort_values([\"GEOFIPS\", \"time\"], inplace = True)\n",
    "\n",
    "trade_county[\"employment_growth\"] = trade_county.groupby([\"GEOFIPS\"]).log_employment.diff(12)\n",
    "\n",
    "trade_county.sort_values([\"GEOFIPS\", \"time\"], inplace = True)"
   ]
  },
  {
   "cell_type": "code",
   "execution_count": 249,
   "metadata": {},
   "outputs": [],
   "source": [
    "# Then what we will do is look at the change in the taiff distribution...\n",
    "\n",
    "exposure = pd.qcut(trade_county.xs('2018-12-1', level=1).tariff_change, 4 ,labels = False)\n",
    "\n",
    "#median_exposure = pd.qcut(trade_county.xs('2018-12-1', level=1).alt_tariff, 5 ,labels = False)"
   ]
  },
  {
   "cell_type": "code",
   "execution_count": 250,
   "metadata": {},
   "outputs": [
    {
     "data": {
      "text/plain": [
       "1.5077290482672434"
      ]
     },
     "execution_count": 250,
     "metadata": {},
     "output_type": "execute_result"
    }
   ],
   "source": [
    "most_exposed = exposure[exposure == 3].index.tolist()\n",
    "\n",
    "mid_group = exposure.isin([1,2])\n",
    "\n",
    "med_exposed = exposure[mid_group].index.tolist()\n",
    "\n",
    "least_exposed = exposure[exposure == 0].index.tolist()\n",
    "\n",
    "trade_county.xs('2018-12-1', level=1).tariff_change.mean()\n"
   ]
  },
  {
   "cell_type": "code",
   "execution_count": 251,
   "metadata": {},
   "outputs": [
    {
     "name": "stdout",
     "output_type": "stream",
     "text": [
      "Tariff Change-Most: 3.79\n",
      "Tariff Change-Midl: 1.05\n",
      "Tariff Change-Lest: 0.15\n",
      "Tariff Change-Mean: 1.51\n"
     ]
    }
   ],
   "source": [
    "print(\"Tariff Change-Most:\", round(trade_county.loc[most_exposed].xs('2018-12-1', level=1).tariff_change.mean(),2))\n",
    "print(\"Tariff Change-Midl:\", round(trade_county.loc[med_exposed].xs('2018-12-1', level=1).tariff_change.mean(),2))\n",
    "print(\"Tariff Change-Lest:\",round(trade_county.loc[least_exposed].xs('2018-12-1', level=1).tariff_change.mean(),2))\n",
    "print(\"Tariff Change-Mean:\", round(trade_county.xs('2018-12-1', level=1).tariff_change.mean(),2))"
   ]
  },
  {
   "cell_type": "code",
   "execution_count": 252,
   "metadata": {},
   "outputs": [
    {
     "name": "stdout",
     "output_type": "stream",
     "text": [
      "Chinese Exports 2017, (Most, Middle, Least, Mean)\n",
      "4034.0\n",
      "1289.0\n",
      "347.0\n",
      "1879.0\n"
     ]
    }
   ],
   "source": [
    "print(\"Chinese Exports 2017, (Most, Middle, Least, Mean)\")\n",
    "\n",
    "measure = \"china_exp_pc\"\n",
    "\n",
    "print(round(trade_county.loc[most_exposed].groupby(\"time\").agg({measure :\"mean\"}).loc[\"2017\"].sum()[0],0))\n",
    "\n",
    "print(round(trade_county.loc[med_exposed].groupby(\"time\").agg({measure :\"mean\"}).loc[\"2017\"].sum()[0],0))\n",
    "\n",
    "print(round(trade_county.loc[least_exposed].groupby(\"time\").agg({measure :\"mean\"}).loc[\"2017\"].sum()[0],0))\n",
    "\n",
    "print(round(trade_county.groupby(\"time\").agg({measure:\"mean\"}).loc[\"2017\"].sum()[0],0))"
   ]
  },
  {
   "cell_type": "code",
   "execution_count": 253,
   "metadata": {
    "scrolled": true
   },
   "outputs": [
    {
     "name": "stdout",
     "output_type": "stream",
     "text": [
      "Annual Employment, (Most, Middle, Least, Mean)\n",
      "11548.0\n",
      "55455.0\n",
      "29855.0\n",
      "38144.0\n"
     ]
    }
   ],
   "source": [
    "print(\"Annual Employment, (Most, Middle, Least, Mean)\")\n",
    "\n",
    "print(round(trade_county.loc[most_exposed].groupby(\"time\").agg({emp_measure:\"mean\"}).loc[\"2017\"].mean()[0],0))\n",
    "\n",
    "print(round(trade_county.loc[med_exposed].groupby(\"time\").agg({emp_measure:\"mean\"}).loc[\"2017\"].mean()[0],0))\n",
    "\n",
    "print(round(trade_county.loc[least_exposed].groupby(\"time\").agg({emp_measure:\"mean\"}).loc[\"2017\"].mean()[0],0))\n",
    "\n",
    "print(round(trade_county.groupby(\"time\").agg({emp_measure:\"mean\"}).loc[\"2017\"].mean()[0],0))"
   ]
  },
  {
   "cell_type": "markdown",
   "metadata": {},
   "source": [
    "Now we will plot a comparision between those who are most exposed and those whoe are the least exposed (in terms of changes). This is basically the difference in difference by visualization."
   ]
  },
  {
   "cell_type": "code",
   "execution_count": 254,
   "metadata": {},
   "outputs": [],
   "source": [
    "empl_most = trade_county.loc[most_exposed].groupby(\"time\").agg({\"employment_growth\":\"mean\"})\n",
    "\n",
    "empl_least = trade_county.loc[least_exposed].groupby(\"time\").agg({\"employment_growth\":\"mean\"})"
   ]
  },
  {
   "cell_type": "code",
   "execution_count": 255,
   "metadata": {},
   "outputs": [
    {
     "data": {
      "image/png": "[encoded data removed]",
      "text/plain": [
       "<Figure size 864x576 with 1 Axes>"
      ]
     },
     "metadata": {
      "needs_background": "light"
     },
     "output_type": "display_data"
    }
   ],
   "source": [
    "fig, ax = plt.subplots(figsize = (12,8))\n",
    "\n",
    "mike_blue = tuple(np.array([20, 64, 134]) / 255)\n",
    "\n",
    "ax.plot((empl_most - empl_least), alpha = 0.95, color = mike_blue, linewidth = 4, \n",
    "        label = 'Difference between top and bottom\\nquartile of county level Chinese tariff exposure')\n",
    "\n",
    "#ax.plot(, alpha = 0.95, color = mike_blue , linewidth = 4, \n",
    "#        label = 'Bottom Quantile of Chinese Tariff Exposure Counties')\n",
    "\n",
    "ax.set_ylim(-0.02,0.02)\n",
    "\n",
    "ax.set_xlim(dt.datetime(2018,1,1),dt.datetime(2019,3,1))\n",
    "\n",
    "ax.spines[\"right\"].set_visible(False)\n",
    "\n",
    "ax.spines[\"top\"].set_visible(False)\n",
    "\n",
    "ax.yaxis.grid(alpha= 0.5, linestyle= \"--\")\n",
    "\n",
    "ax.set_ylabel(\"Employment, Year over Year Log Difference,\\nComparison Between High- and Low-Tariff Counties\", fontsize = 14)\n",
    "\n",
    "ax.hlines((empl_most - empl_least).loc[:\"2018-07-01\"].mean().iloc[0],\n",
    "          dt.datetime(2018,1,1),dt.datetime(2018,7,6),\n",
    "           linewidth = 3, color = 'darkred', alpha =0.75, linestyle = \"--\")\n",
    "\n",
    "ax.hlines((empl_most - empl_least).loc[\"2018-08-01\":].mean().iloc[0],\n",
    "          dt.datetime(2018,7,6),dt.datetime(2019,3,1),\n",
    "           linewidth = 3, color = 'darkred', alpha =0.75, linestyle = \"--\", label = \"Avg. Pre- and Post-Tariff Increase\")\n",
    "\n",
    "ax.axvline(dt.datetime(2018,4,4), linewidth = 2, ls = \"--\", color = 'k', alpha =0.15)\n",
    "\n",
    "ax.axvline(dt.datetime(2018,7,6), linewidth = 2, ls = \"--\", color = 'k', alpha =0.15)\n",
    "\n",
    "ax.axvline(dt.datetime(2018,8,23), linewidth = 2, ls = \"--\", color = 'k', alpha =0.25)\n",
    "\n",
    "ax.axvline(dt.datetime(2018,9,24), linewidth = 2, ls = \"--\", color = 'k', alpha =0.15)\n",
    "\n",
    "ax.axvline(dt.datetime(2018,12,1), linewidth = 2, ls = \"--\", color = 'k', alpha =0.15)\n",
    "\n",
    "ax.legend(loc = 0, frameon  = False, fontsize = 14)\n",
    "\n",
    "ax.set_title(\"County-Level, Employment (Goods) Growth by Tariff Exposure\", fontsize = 16, loc= \"left\" )\n",
    "\n",
    "##############################################################################################\n",
    "\n",
    "ax.annotate(\n",
    "    \"4/2018: US announces intention\\nto impose tariffs on China\", \n",
    "    xy=(dt.datetime(2018,4,3), 0.005), # This is where we point at...\n",
    "    xycoords=\"data\", # Not exactly sure about this\n",
    "    xytext=(dt.datetime(2018,9,3), 0.01), # This is about where the text is\n",
    "    horizontalalignment=\"left\", # How the text is alined\n",
    "    arrowprops={\n",
    "        \"arrowstyle\": \"-|>\", # This is stuff about the arrow\n",
    "        \"connectionstyle\": \"angle3,angleA=5,angleB=50\",\n",
    "        \"color\": \"black\",\n",
    "        \"alpha\": 0.55\n",
    "    },\n",
    "    fontsize=11,\n",
    ")\n",
    "\n",
    "##############################################################################################\n",
    "\n",
    "ax.annotate(\n",
    "    \"7/2018: China imposes first phase of\\nretaliatory tariffs\", \n",
    "    xy=(dt.datetime(2018,7,6), -0.01), # This is where we point at...\n",
    "    xycoords=\"data\", # Not exactly sure about this\n",
    "    xytext=(dt.datetime(2018,10,3), 0.0), # This is about where the text is\n",
    "    horizontalalignment=\"left\", # How the text is alined\n",
    "    arrowprops={\n",
    "        \"arrowstyle\": \"-|>\", # This is stuff about the arrow\n",
    "        \"connectionstyle\": \"angle3,angleA=5,angleB=50\",\n",
    "        \"color\": \"black\",\n",
    "        \"alpha\": 0.55\n",
    "    },\n",
    "    fontsize=11,\n",
    ")\n",
    "\n",
    "###################################################################################\n",
    "\n",
    "ax.annotate(\n",
    "    \"8-9/2018: China imposes second and \\nthird phase of retaliatory tariffs\", \n",
    "    xy=(dt.datetime(2018,8,23), -0.02), color='white',# This is where we point at...\n",
    "    xycoords=\"data\", # Not exactly sure about this\n",
    "    xytext=(dt.datetime(2018,11,3), -0.005), # This is about where the text is\n",
    "    horizontalalignment=\"left\", # How the text is alined\n",
    "    arrowprops={\n",
    "        \"arrowstyle\": \"-|>\", # This is stuff about the arrow\n",
    "        \"connectionstyle\": \"angle3,angleA=345,angleB=80\",\n",
    "        \"color\": \"black\",\n",
    "        \"alpha\": 0.55\n",
    "    },\n",
    "    fontsize=11,\n",
    ")\n",
    "\n",
    "###################################################################################\n",
    "\n",
    "ax.annotate(\n",
    "    \"8-9/2018: China imposes second and \\nthird phase of retaliatory tariffs\", \n",
    "    xy=(dt.datetime(2018,9,24), -0.02), # This is where we point at...\n",
    "    xycoords=\"data\", # Not exactly sure about this\n",
    "    xytext=(dt.datetime(2018,11,3), -0.005), # This is about where the text is\n",
    "    horizontalalignment=\"left\", # How the text is alined\n",
    "    arrowprops={\n",
    "        \"arrowstyle\": \"-|>\", # This is stuff about the arrow\n",
    "        \"connectionstyle\": \"angle3,angleA=345,angleB=286\",\n",
    "        \"color\": \"black\",\n",
    "        \"alpha\": 0.55\n",
    "    },\n",
    "    fontsize=11,\n",
    ")\n",
    "\n",
    "##############################################################################################\n",
    "\n",
    "#plt.savefig(fig_path + \"\\\\simple_employment_county_all.pdf\", bbox_inches = \"tight\", dip = 3600)\n",
    "\n",
    "plt.show()"
   ]
  },
  {
   "cell_type": "markdown",
   "metadata": {},
   "source": [
    "Then this will do the tabular representation using stuff before and after the first phase of the tradewar."
   ]
  },
  {
   "cell_type": "code",
   "execution_count": 256,
   "metadata": {},
   "outputs": [
    {
     "name": "stdout",
     "output_type": "stream",
     "text": [
      "0.0102 0.001 4719\n",
      "0.0096 0.001 4617\n"
     ]
    }
   ],
   "source": [
    "idx = pd.IndexSlice\n",
    "\n",
    "me_mean = trade_county.loc[most_exposed].loc[idx[:,\"2018-01-01\":\"2018-06-01\"],:].employment_growth.mean()\n",
    "\n",
    "me_nobs = trade_county.loc[most_exposed].loc[idx[:,\"2018-01-01\":\"2018-06-01\"],:].employment_growth.notnull().sum()\n",
    "\n",
    "me_se = trade_county.loc[most_exposed].loc[idx[:,\"2018-01-01\":\"2018-06-01\"],:].employment_growth.std()/me_nobs**0.5\n",
    "\n",
    "\n",
    "le_mean = trade_county.loc[least_exposed].loc[idx[:,\"2018-01-01\":\"2018-06-01\"],:].employment_growth.mean()\n",
    "\n",
    "le_nobs = trade_county.loc[least_exposed].loc[idx[:,\"2018-01-01\":\"2018-06-01\"],:].employment_growth.notnull().sum()\n",
    "\n",
    "le_se = trade_county.loc[least_exposed].loc[idx[:,\"2018-01-01\":\"2018-06-01\"],:].employment_growth.std()/me_nobs**0.5\n",
    "\n",
    "print(round(me_mean,4), round(me_se,3), me_nobs)\n",
    "print(round(le_mean,4), round(le_se,3), le_nobs)"
   ]
  },
  {
   "cell_type": "code",
   "execution_count": 257,
   "metadata": {},
   "outputs": [
    {
     "name": "stdout",
     "output_type": "stream",
     "text": [
      "0.0093 0.001 7092\n",
      "0.0103 0.001 6945\n"
     ]
    }
   ],
   "source": [
    "idx = pd.IndexSlice\n",
    "\n",
    "me_mean = trade_county.loc[most_exposed].loc[idx[:,\"2018-07-01\":],:].employment_growth.mean()\n",
    "\n",
    "me_nobs = trade_county.loc[most_exposed].loc[idx[:,\"2018-07-01\":],:].employment_growth.notnull().sum()\n",
    "\n",
    "me_se = trade_county.loc[most_exposed].loc[idx[:,\"2018-07-01\":],:].employment_growth.std()/me_nobs**0.5\n",
    "\n",
    "\n",
    "le_mean = trade_county.loc[least_exposed].loc[idx[:,\"2018-07-01\":],:].employment_growth.mean()\n",
    "\n",
    "le_nobs = trade_county.loc[least_exposed].loc[idx[:,\"2018-07-01\":],:].employment_growth.notnull().sum()\n",
    "\n",
    "le_se = trade_county.loc[least_exposed].loc[idx[:,\"2018-07-01\":],:].employment_growth.std()/me_nobs**0.5\n",
    "\n",
    "print(round(me_mean,4), round(me_se,3), me_nobs)\n",
    "print(round(le_mean,4), round(le_se,3), le_nobs)"
   ]
  },
  {
   "cell_type": "markdown",
   "metadata": {},
   "source": [
    "Not discussed in the paper, but what this looks like is that both looked relativly the same before the start of it interms of employment growth. But after the first phase, the least exposed did really well (this is consistent with a rocking US economy) but those most exposed did relativly poorly. But growth here is still positive. "
   ]
  },
  {
   "cell_type": "markdown",
   "metadata": {},
   "source": [
    "### Regression Analysis\n",
    "\n",
    "This will walk through the results using employment data. The first set are the main (weighted results). The next set are the unweighted results. Numbers may not exactly match up to what is in the paper as some rounding is occuring. "
   ]
  },
  {
   "cell_type": "code",
   "execution_count": 258,
   "metadata": {},
   "outputs": [
    {
     "data": {
      "text/plain": [
       "Index(['total_exp_pc', 'china_exp_pc', 'tariff', 'emplvl_2017', 'fips',\n",
       "       'total_employment', 'emp_all', 'emp_gds', 'log_tariff', 'log_exp_total',\n",
       "       'log_exp_china', 'log_employment', 'const', 'state_fips',\n",
       "       'tariff_change', 'log_tariff_change', 'employment_growth'],\n",
       "      dtype='object')"
      ]
     },
     "execution_count": 258,
     "metadata": {},
     "output_type": "execute_result"
    }
   ],
   "source": [
    "trade_county.columns"
   ]
  },
  {
   "cell_type": "markdown",
   "metadata": {},
   "source": [
    "### Weighted Results\n",
    "\n",
    "#### Change on Change, no time or fixed effects"
   ]
  },
  {
   "cell_type": "code",
   "execution_count": 259,
   "metadata": {
    "scrolled": false
   },
   "outputs": [
    {
     "name": "stdout",
     "output_type": "stream",
     "text": [
      "15\n",
      "3252\n",
      "                          PanelOLS Estimation Summary                           \n",
      "================================================================================\n",
      "Dep. Variable:      employment_growth   R-squared:                        0.0045\n",
      "Estimator:                   PanelOLS   R-squared (Between):              0.0046\n",
      "No. Observations:               47295   R-squared (Within):               0.0043\n",
      "Date:                Thu, Oct 17 2019   R-squared (Overall):              0.0045\n",
      "Time:                        07:23:00   Log-likelihood                 1.161e+05\n",
      "Cov. Estimator:             Clustered                                           \n",
      "                                        F-statistic:                   3.137e+04\n",
      "Entities:                        3161   P-value                           0.0000\n",
      "Avg Obs:                       14.962   Distribution:                 F(1,47293)\n",
      "Min Obs:                       3.0000                                           \n",
      "Max Obs:                       15.000   F-statistic (robust):             21.739\n",
      "                                        P-value                           0.0000\n",
      "Time periods:                      15   Distribution:                 F(1,47293)\n",
      "Avg Obs:                       3153.0                                           \n",
      "Min Obs:                       3148.0                                           \n",
      "Max Obs:                       3158.0                                           \n",
      "                                                                                \n",
      "                                 Parameter Estimates                                 \n",
      "=====================================================================================\n",
      "                   Parameter  Std. Err.     T-stat    P-value    Lower CI    Upper CI\n",
      "-------------------------------------------------------------------------------------\n",
      "const                 0.0181     0.0008     22.834     0.0000      0.0166      0.0197\n",
      "log_tariff_change    -0.2286     0.0490    -4.6625     0.0000     -0.3247     -0.1325\n",
      "=====================================================================================\n",
      "\n",
      "\n"
     ]
    }
   ],
   "source": [
    "all_vars = [\"const\", \"log_tariff_change\", 'employment_growth','total_employment']\n",
    "\n",
    "dataset = trade_county[all_vars].loc[idx[:,\"2018-01-01\":\"2019-03-01\"],:]\n",
    "\n",
    "exog_vars = [\"const\",\"log_tariff_change\"]\n",
    "\n",
    "weights = dataset['total_employment'].to_frame()\n",
    "# I fought with this alot. the weights shape needs to exaclty match up\n",
    "# with the dataframe for which the estimation is done. So what I do is\n",
    "# slice as above, then let PanelOLS drop things when there are missing \n",
    "# observations\n",
    "\n",
    "weights.replace(to_replace = 0, value = 0.001,inplace = True)\n",
    "# Some countys because of there size and how the QCEW deals with stuff, there are is zero.\n",
    "# PanelOLS does not like 0 weight, so this the the work around. It does not matter. \n",
    "\n",
    "mod = PanelOLS(dataset.employment_growth, dataset[exog_vars], weights = weights)\n",
    "\n",
    "fe_res = mod.fit(cov_type='clustered', cluster_entity=True)\n",
    "\n",
    "print(fe_res)"
   ]
  },
  {
   "cell_type": "markdown",
   "metadata": {},
   "source": [
    "#### Change on Change, now with just the time effect."
   ]
  },
  {
   "cell_type": "code",
   "execution_count": 260,
   "metadata": {},
   "outputs": [
    {
     "name": "stdout",
     "output_type": "stream",
     "text": [
      "15\n",
      "3252\n",
      "                          PanelOLS Estimation Summary                           \n",
      "================================================================================\n",
      "Dep. Variable:      employment_growth   R-squared:                        0.0050\n",
      "Estimator:                   PanelOLS   R-squared (Between):              0.0050\n",
      "No. Observations:               47295   R-squared (Within):               0.0019\n",
      "Date:                Thu, Oct 17 2019   R-squared (Overall):              0.0042\n",
      "Time:                        07:23:01   Log-likelihood                 1.162e+05\n",
      "Cov. Estimator:             Clustered                                           \n",
      "                                        F-statistic:                   3.148e+04\n",
      "Entities:                        3161   P-value                           0.0000\n",
      "Avg Obs:                       14.962   Distribution:                 F(1,47279)\n",
      "Min Obs:                       3.0000                                           \n",
      "Max Obs:                       15.000   F-statistic (robust):             19.774\n",
      "                                        P-value                           0.0000\n",
      "Time periods:                      15   Distribution:                 F(1,47279)\n",
      "Avg Obs:                       3153.0                                           \n",
      "Min Obs:                       3148.0                                           \n",
      "Max Obs:                       3158.0                                           \n",
      "                                                                                \n",
      "                                 Parameter Estimates                                 \n",
      "=====================================================================================\n",
      "                   Parameter  Std. Err.     T-stat    P-value    Lower CI    Upper CI\n",
      "-------------------------------------------------------------------------------------\n",
      "const                 0.0184     0.0008     21.869     0.0000      0.0167      0.0200\n",
      "log_tariff_change    -0.2936     0.0660    -4.4468     0.0000     -0.4230     -0.1642\n",
      "=====================================================================================\n",
      "\n",
      "F-test for Poolability: 10.276\n",
      "P-value: 0.0000\n",
      "Distribution: F(14,47279)\n",
      "\n",
      "Included effects: Time\n"
     ]
    }
   ],
   "source": [
    "all_vars = [\"const\", \"log_tariff_change\", 'employment_growth','total_employment']\n",
    "\n",
    "dataset = trade_county[all_vars].loc[idx[:,\"2018-01-01\":\"2019-03-01\"],:]\n",
    "\n",
    "exog_vars = [\"const\",\"log_tariff_change\"]\n",
    "\n",
    "weights = dataset['total_employment'].to_frame()\n",
    "# I fought with this alot. the weights shape needs to exaclty match up\n",
    "# with the dataframe for which the estimation is done. So what I do is\n",
    "# slice as above, then let PanelOLS drop things when there are missing \n",
    "# observations\n",
    "\n",
    "weights.replace(to_replace = 0, value = 0.001,inplace = True)\n",
    "# Some countys because of there size and how the QCEW deals with stuff, there are is zero.\n",
    "# PanelOLS does not like 0 weight, so this the the work around. It does not matter. \n",
    "\n",
    "mod = PanelOLS(dataset.employment_growth, dataset[exog_vars], weights = weights, time_effects = True)\n",
    "\n",
    "fe_res = mod.fit(cov_type='clustered', cluster_entity=True)\n",
    "\n",
    "print(fe_res)"
   ]
  },
  {
   "cell_type": "markdown",
   "metadata": {},
   "source": [
    "#### Change on Change, time effects and county-level fixed effects"
   ]
  },
  {
   "cell_type": "code",
   "execution_count": 261,
   "metadata": {},
   "outputs": [
    {
     "name": "stdout",
     "output_type": "stream",
     "text": [
      "15\n",
      "3252\n",
      "                          PanelOLS Estimation Summary                           \n",
      "================================================================================\n",
      "Dep. Variable:      employment_growth   R-squared:                        0.0053\n",
      "Estimator:                   PanelOLS   R-squared (Between):              0.0047\n",
      "No. Observations:               47295   R-squared (Within):               0.0040\n",
      "Date:                Thu, Oct 17 2019   R-squared (Overall):              0.0045\n",
      "Time:                        07:23:02   Log-likelihood                 1.469e+05\n",
      "Cov. Estimator:             Clustered                                           \n",
      "                                        F-statistic:                   8.587e+04\n",
      "Entities:                        3161   P-value                           0.0000\n",
      "Avg Obs:                       14.962   Distribution:                 F(1,44119)\n",
      "Min Obs:                       3.0000                                           \n",
      "Max Obs:                       15.000   F-statistic (robust):             11.542\n",
      "                                        P-value                           0.0007\n",
      "Time periods:                      15   Distribution:                 F(1,44119)\n",
      "Avg Obs:                       3153.0                                           \n",
      "Min Obs:                       3148.0                                           \n",
      "Max Obs:                       3158.0                                           \n",
      "                                                                                \n",
      "                                 Parameter Estimates                                 \n",
      "=====================================================================================\n",
      "                   Parameter  Std. Err.     T-stat    P-value    Lower CI    Upper CI\n",
      "-------------------------------------------------------------------------------------\n",
      "const                 0.0182     0.0003     64.288     0.0000      0.0176      0.0187\n",
      "log_tariff_change    -0.2400     0.0707    -3.3974     0.0007     -0.3785     -0.1016\n",
      "=====================================================================================\n",
      "\n",
      "F-test for Poolability: 37.209\n",
      "P-value: 0.0000\n",
      "Distribution: F(3174,44119)\n",
      "\n",
      "Included effects: Entity, Time\n"
     ]
    }
   ],
   "source": [
    "all_vars = [\"const\", \"log_tariff_change\", 'employment_growth','total_employment']\n",
    "\n",
    "dataset = trade_county[all_vars].loc[idx[:,\"2018-01-01\":\"2019-03-01\"],:]\n",
    "\n",
    "exog_vars = [\"const\",\"log_tariff_change\"]\n",
    "\n",
    "weights = dataset['total_employment'].to_frame()\n",
    "# I fought with this alot. the weights shape needs to exaclty match up\n",
    "# with the dataframe for which the estimation is done. So what I do is\n",
    "# slice as above, then let PanelOLS drop things when there are missing \n",
    "# observations\n",
    "\n",
    "weights.replace(to_replace = 0, value = 0.001,inplace = True)\n",
    "# Some countys because of there size and how the QCEW deals with stuff, there are is zero.\n",
    "# PanelOLS does not like 0 weight, so this the the work around. It does not matter. \n",
    "\n",
    "mod = PanelOLS(dataset.employment_growth, dataset[exog_vars], weights = weights, entity_effects=True, \n",
    "               time_effects = True)\n",
    "\n",
    "fe_res = mod.fit(cov_type='clustered', cluster_entity=True)\n",
    "\n",
    "print(fe_res)"
   ]
  },
  {
   "cell_type": "markdown",
   "metadata": {},
   "source": [
    "### Unweigted resuts\n",
    "\n",
    "#### Change on Change, no fixed effects or time effects"
   ]
  },
  {
   "cell_type": "code",
   "execution_count": null,
   "metadata": {},
   "outputs": [],
   "source": [
    "all_vars = [\"const\", \"log_tariff_change\", 'employment_growth']\n",
    "\n",
    "dataset = trade_county[all_vars].loc[idx[:,\"2018-01-01\":\"2019-03-01\"],:]\n",
    "\n",
    "exog_vars = [\"const\",\"log_tariff_change\"]\n",
    "\n",
    "mod = PanelOLS(dataset.employment_growth, dataset[exog_vars])\n",
    "\n",
    "fe_res = mod.fit(cov_type='clustered', cluster_entity=True)\n",
    "\n",
    "print(fe_res)\n",
    "\n",
    "#df = pd.concat([dataset.employment_growth, fe_res.fitted_values],1).dropna()\n",
    "#print(df.corr().iloc[0,1] ** 2)"
   ]
  },
  {
   "cell_type": "markdown",
   "metadata": {},
   "source": [
    "#### Change on Change, time effects"
   ]
  },
  {
   "cell_type": "code",
   "execution_count": null,
   "metadata": {},
   "outputs": [],
   "source": [
    "all_vars = [\"const\", \"log_tariff_change\", 'employment_growth']\n",
    "\n",
    "dataset = trade_county[all_vars].loc[idx[:,\"2018-01-01\":\"2019-03-01\"],:]\n",
    "\n",
    "exog_vars = [\"const\",\"log_tariff_change\"]\n",
    "\n",
    "mod = PanelOLS(dataset.employment_growth, dataset[exog_vars], time_effects = True)\n",
    "\n",
    "fe_res = mod.fit(cov_type='clustered', cluster_entity=True)\n",
    "\n",
    "print(fe_res)"
   ]
  },
  {
   "cell_type": "markdown",
   "metadata": {},
   "source": [
    "#### Change on Change, time and county-level fixed effects"
   ]
  },
  {
   "cell_type": "code",
   "execution_count": null,
   "metadata": {},
   "outputs": [],
   "source": [
    "all_vars = [\"const\", \"log_tariff_change\", 'employment_growth']\n",
    "\n",
    "dataset = trade_county[all_vars].loc[idx[:,\"2018-01-01\":\"2019-03-01\"],:]\n",
    "\n",
    "exog_vars = [\"const\",\"log_tariff_change\"]\n",
    "\n",
    "mod = PanelOLS(dataset.employment_growth, dataset[exog_vars], entity_effects=True, time_effects = True)\n",
    "\n",
    "fe_res = mod.fit(cov_type='clustered', cluster_entity=True)\n",
    "\n",
    "print(fe_res)"
   ]
  },
  {
   "cell_type": "markdown",
   "metadata": {},
   "source": [
    "This is the most interesting one. Here things go to zero and there is no effect. What I think the weighting is really doing is variance reduction rather than some issue about means. So there are a bunch of small county's with employment patterns all over the place. By weighting on county size, this reduces the impact those guys have and, hence, you get the different result. "
   ]
  },
  {
   "cell_type": "code",
   "execution_count": null,
   "metadata": {},
   "outputs": [],
   "source": [
    "1*(3.92-0.15)"
   ]
  },
  {
   "cell_type": "code",
   "execution_count": null,
   "metadata": {},
   "outputs": [],
   "source": []
  }
 ],
 "metadata": {
  "kernelspec": {
   "display_name": "Python 3",
   "language": "python",
   "name": "python3"
  },
  "language_info": {
   "codemirror_mode": {
    "name": "ipython",
    "version": 3
   },
   "file_extension": ".py",
   "mimetype": "text/x-python",
   "name": "python",
   "nbconvert_exporter": "python",
   "pygments_lexer": "ipython3",
   "version": "3.7.3"
  }
 },
 "nbformat": 4,
 "nbformat_minor": 2
}
